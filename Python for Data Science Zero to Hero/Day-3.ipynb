{
  "nbformat": 4,
  "nbformat_minor": 2,
  "metadata": {
    "kernelspec": {
      "name": "python3",
      "display_name": "Python 3.9.6 64-bit"
    },
    "language_info": {
      "codemirror_mode": {
        "name": "ipython",
        "version": 3
      },
      "file_extension": ".py",
      "mimetype": "text/x-python",
      "name": "python",
      "nbconvert_exporter": "python",
      "pygments_lexer": "ipython3",
      "version": "3.9.6"
    },
    "colab": {
      "name": "Essentials-Day3_python for Data science.ipynb",
      "provenance": [],
      "collapsed_sections": []
    },
    "interpreter": {
      "hash": "8851df47834bdf67223ff366975cf256d603d606bf35e2616a5669081cab6ba0"
    }
  },
  "cells": [
    {
      "cell_type": "markdown",
      "source": [
        "# *Assignment at the bottom part of the page, please head over there for evaluation*\r\n"
      ],
      "metadata": {}
    },
    {
      "cell_type": "markdown",
      "source": [
        "## Pandas Tutorial\n",
        "\n",
        "Pandas is an open source, BSD-licensed library providing high-performance, easy-to-use data structures and data analysis tools for the Python programming language."
      ],
      "metadata": {
        "id": "sWCmmcw8KAEM"
      }
    },
    {
      "cell_type": "markdown",
      "source": [
        "Agenda\n",
        "\n",
        "- What is Data Frames?\n",
        "- What is Data Series?\n",
        "- Different operation in Pandas"
      ],
      "metadata": {
        "id": "fb7dgw3VKAEP"
      }
    },
    {
      "cell_type": "code",
      "execution_count": null,
      "source": [
        "## First step is to import pandas\r\n",
        "\r\n",
        "import pandas as pd\r\n",
        "import numpy as np"
      ],
      "outputs": [],
      "metadata": {
        "id": "g6QykkRWKAEQ"
      }
    },
    {
      "cell_type": "code",
      "execution_count": null,
      "source": [
        "## Creating Dataframe\r\n",
        "\r\n",
        "df=pd.DataFrame(np.arange(0,20).reshape(5,4),index=['Row1','Row2','Row3','Row4','Row5'],columns=[\"Column1\",\"Column2\",\"Column3\",\"Column4\"])"
      ],
      "outputs": [],
      "metadata": {
        "id": "TEGV4UT2KAER"
      }
    },
    {
      "cell_type": "code",
      "execution_count": null,
      "source": [
        "df.head()"
      ],
      "outputs": [
        {
          "output_type": "execute_result",
          "data": {
            "text/html": [
              "<div>\n",
              "<style scoped>\n",
              "    .dataframe tbody tr th:only-of-type {\n",
              "        vertical-align: middle;\n",
              "    }\n",
              "\n",
              "    .dataframe tbody tr th {\n",
              "        vertical-align: top;\n",
              "    }\n",
              "\n",
              "    .dataframe thead th {\n",
              "        text-align: right;\n",
              "    }\n",
              "</style>\n",
              "<table border=\"1\" class=\"dataframe\">\n",
              "  <thead>\n",
              "    <tr style=\"text-align: right;\">\n",
              "      <th></th>\n",
              "      <th>Column1</th>\n",
              "      <th>Column2</th>\n",
              "      <th>Column3</th>\n",
              "      <th>Column4</th>\n",
              "    </tr>\n",
              "  </thead>\n",
              "  <tbody>\n",
              "    <tr>\n",
              "      <th>Row1</th>\n",
              "      <td>0</td>\n",
              "      <td>1</td>\n",
              "      <td>2</td>\n",
              "      <td>3</td>\n",
              "    </tr>\n",
              "    <tr>\n",
              "      <th>Row2</th>\n",
              "      <td>4</td>\n",
              "      <td>5</td>\n",
              "      <td>6</td>\n",
              "      <td>7</td>\n",
              "    </tr>\n",
              "    <tr>\n",
              "      <th>Row3</th>\n",
              "      <td>8</td>\n",
              "      <td>9</td>\n",
              "      <td>10</td>\n",
              "      <td>11</td>\n",
              "    </tr>\n",
              "    <tr>\n",
              "      <th>Row4</th>\n",
              "      <td>12</td>\n",
              "      <td>13</td>\n",
              "      <td>14</td>\n",
              "      <td>15</td>\n",
              "    </tr>\n",
              "    <tr>\n",
              "      <th>Row5</th>\n",
              "      <td>16</td>\n",
              "      <td>17</td>\n",
              "      <td>18</td>\n",
              "      <td>19</td>\n",
              "    </tr>\n",
              "  </tbody>\n",
              "</table>\n",
              "</div>"
            ],
            "text/plain": [
              "      Column1  Column2  Column3  Column4\n",
              "Row1        0        1        2        3\n",
              "Row2        4        5        6        7\n",
              "Row3        8        9       10       11\n",
              "Row4       12       13       14       15\n",
              "Row5       16       17       18       19"
            ]
          },
          "metadata": {},
          "execution_count": 200
        }
      ],
      "metadata": {
        "id": "brZaDb69KAER",
        "outputId": "2598d74f-6101-4be4-baba-631ee1c74c44"
      }
    },
    {
      "cell_type": "code",
      "execution_count": null,
      "source": [
        "df['Column1']"
      ],
      "outputs": [
        {
          "output_type": "execute_result",
          "data": {
            "text/plain": [
              "Row1     0\n",
              "Row2     4\n",
              "Row3     8\n",
              "Row4    12\n",
              "Row5    16\n",
              "Name: Column1, dtype: int32"
            ]
          },
          "metadata": {},
          "execution_count": 213
        }
      ],
      "metadata": {
        "id": "BCEfeX2CKAES",
        "outputId": "537454eb-2404-4830-a7f4-afb763ff0060"
      }
    },
    {
      "cell_type": "code",
      "execution_count": null,
      "source": [
        "df[['Column2', 'Column3']]"
      ],
      "outputs": [
        {
          "output_type": "execute_result",
          "data": {
            "text/html": [
              "<div>\n",
              "<style scoped>\n",
              "    .dataframe tbody tr th:only-of-type {\n",
              "        vertical-align: middle;\n",
              "    }\n",
              "\n",
              "    .dataframe tbody tr th {\n",
              "        vertical-align: top;\n",
              "    }\n",
              "\n",
              "    .dataframe thead th {\n",
              "        text-align: right;\n",
              "    }\n",
              "</style>\n",
              "<table border=\"1\" class=\"dataframe\">\n",
              "  <thead>\n",
              "    <tr style=\"text-align: right;\">\n",
              "      <th></th>\n",
              "      <th>Column2</th>\n",
              "      <th>Column3</th>\n",
              "    </tr>\n",
              "  </thead>\n",
              "  <tbody>\n",
              "    <tr>\n",
              "      <th>Row1</th>\n",
              "      <td>1</td>\n",
              "      <td>2</td>\n",
              "    </tr>\n",
              "    <tr>\n",
              "      <th>Row2</th>\n",
              "      <td>5</td>\n",
              "      <td>6</td>\n",
              "    </tr>\n",
              "    <tr>\n",
              "      <th>Row3</th>\n",
              "      <td>9</td>\n",
              "      <td>10</td>\n",
              "    </tr>\n",
              "    <tr>\n",
              "      <th>Row4</th>\n",
              "      <td>13</td>\n",
              "      <td>14</td>\n",
              "    </tr>\n",
              "    <tr>\n",
              "      <th>Row5</th>\n",
              "      <td>17</td>\n",
              "      <td>18</td>\n",
              "    </tr>\n",
              "  </tbody>\n",
              "</table>\n",
              "</div>"
            ],
            "text/plain": [
              "      Column2  Column3\n",
              "Row1        1        2\n",
              "Row2        5        6\n",
              "Row3        9       10\n",
              "Row4       13       14\n",
              "Row5       17       18"
            ]
          },
          "metadata": {},
          "execution_count": 212
        }
      ],
      "metadata": {
        "id": "CXTASvTBKAET",
        "outputId": "1b4b8210-6b6f-470b-d013-664c41d33b80"
      }
    },
    {
      "cell_type": "markdown",
      "source": [
        "### loc - loc is label-based, which means that you have to specify rows and columns based on their row and column labels\n",
        "\n",
        "### iloc (index location) - iloc is integer position-based, so you have to specify rows and columns by their integer position values (0-based integer position)"
      ],
      "metadata": {
        "id": "8zKHrZUsKAET"
      }
    },
    {
      "cell_type": "code",
      "execution_count": null,
      "source": [
        "## Accessing the elements\r\n",
        "\r\n",
        "df.loc['Row1']"
      ],
      "outputs": [
        {
          "output_type": "execute_result",
          "data": {
            "text/plain": [
              "Column1    0\n",
              "Column2    1\n",
              "Column3    2\n",
              "Column4    3\n",
              "Name: Row1, dtype: int32"
            ]
          },
          "metadata": {},
          "execution_count": 201
        }
      ],
      "metadata": {
        "id": "EwYtnwcYKAEU",
        "outputId": "54ccc0ae-868a-4741-da6c-60139fb80d24"
      }
    },
    {
      "cell_type": "code",
      "execution_count": null,
      "source": [
        "## Check the type\r\n",
        "\r\n",
        "type(df.loc['Row1'])"
      ],
      "outputs": [
        {
          "output_type": "execute_result",
          "data": {
            "text/plain": [
              "pandas.core.series.Series"
            ]
          },
          "metadata": {},
          "execution_count": 202
        }
      ],
      "metadata": {
        "id": "PFceoUs_KAEV",
        "outputId": "e4ed9f5c-c74a-481e-9a87-e2eddee8c14e"
      }
    },
    {
      "cell_type": "code",
      "execution_count": null,
      "source": [
        "df.iloc[:,:]"
      ],
      "outputs": [
        {
          "output_type": "execute_result",
          "data": {
            "text/html": [
              "<div>\n",
              "<style scoped>\n",
              "    .dataframe tbody tr th:only-of-type {\n",
              "        vertical-align: middle;\n",
              "    }\n",
              "\n",
              "    .dataframe tbody tr th {\n",
              "        vertical-align: top;\n",
              "    }\n",
              "\n",
              "    .dataframe thead th {\n",
              "        text-align: right;\n",
              "    }\n",
              "</style>\n",
              "<table border=\"1\" class=\"dataframe\">\n",
              "  <thead>\n",
              "    <tr style=\"text-align: right;\">\n",
              "      <th></th>\n",
              "      <th>Column1</th>\n",
              "      <th>Column2</th>\n",
              "      <th>Column3</th>\n",
              "      <th>Column4</th>\n",
              "    </tr>\n",
              "  </thead>\n",
              "  <tbody>\n",
              "    <tr>\n",
              "      <th>Row1</th>\n",
              "      <td>0</td>\n",
              "      <td>1</td>\n",
              "      <td>2</td>\n",
              "      <td>3</td>\n",
              "    </tr>\n",
              "    <tr>\n",
              "      <th>Row2</th>\n",
              "      <td>4</td>\n",
              "      <td>5</td>\n",
              "      <td>6</td>\n",
              "      <td>7</td>\n",
              "    </tr>\n",
              "    <tr>\n",
              "      <th>Row3</th>\n",
              "      <td>8</td>\n",
              "      <td>9</td>\n",
              "      <td>10</td>\n",
              "      <td>11</td>\n",
              "    </tr>\n",
              "    <tr>\n",
              "      <th>Row4</th>\n",
              "      <td>12</td>\n",
              "      <td>13</td>\n",
              "      <td>14</td>\n",
              "      <td>15</td>\n",
              "    </tr>\n",
              "    <tr>\n",
              "      <th>Row5</th>\n",
              "      <td>16</td>\n",
              "      <td>17</td>\n",
              "      <td>18</td>\n",
              "      <td>19</td>\n",
              "    </tr>\n",
              "  </tbody>\n",
              "</table>\n",
              "</div>"
            ],
            "text/plain": [
              "      Column1  Column2  Column3  Column4\n",
              "Row1        0        1        2        3\n",
              "Row2        4        5        6        7\n",
              "Row3        8        9       10       11\n",
              "Row4       12       13       14       15\n",
              "Row5       16       17       18       19"
            ]
          },
          "metadata": {},
          "execution_count": 203
        }
      ],
      "metadata": {
        "id": "xryaCzIKKAEV",
        "outputId": "d8ae4c2c-ad52-4cea-a6ab-91ac795603dc"
      }
    },
    {
      "cell_type": "code",
      "execution_count": null,
      "source": [
        "## Take the elements from the Column2\r\n",
        "df.iloc[:,1:]"
      ],
      "outputs": [
        {
          "output_type": "execute_result",
          "data": {
            "text/html": [
              "<div>\n",
              "<style scoped>\n",
              "    .dataframe tbody tr th:only-of-type {\n",
              "        vertical-align: middle;\n",
              "    }\n",
              "\n",
              "    .dataframe tbody tr th {\n",
              "        vertical-align: top;\n",
              "    }\n",
              "\n",
              "    .dataframe thead th {\n",
              "        text-align: right;\n",
              "    }\n",
              "</style>\n",
              "<table border=\"1\" class=\"dataframe\">\n",
              "  <thead>\n",
              "    <tr style=\"text-align: right;\">\n",
              "      <th></th>\n",
              "      <th>Column2</th>\n",
              "      <th>Column3</th>\n",
              "      <th>Column4</th>\n",
              "    </tr>\n",
              "  </thead>\n",
              "  <tbody>\n",
              "    <tr>\n",
              "      <th>Row1</th>\n",
              "      <td>1</td>\n",
              "      <td>2</td>\n",
              "      <td>3</td>\n",
              "    </tr>\n",
              "    <tr>\n",
              "      <th>Row2</th>\n",
              "      <td>5</td>\n",
              "      <td>6</td>\n",
              "      <td>7</td>\n",
              "    </tr>\n",
              "    <tr>\n",
              "      <th>Row3</th>\n",
              "      <td>9</td>\n",
              "      <td>10</td>\n",
              "      <td>11</td>\n",
              "    </tr>\n",
              "    <tr>\n",
              "      <th>Row4</th>\n",
              "      <td>13</td>\n",
              "      <td>14</td>\n",
              "      <td>15</td>\n",
              "    </tr>\n",
              "    <tr>\n",
              "      <th>Row5</th>\n",
              "      <td>17</td>\n",
              "      <td>18</td>\n",
              "      <td>19</td>\n",
              "    </tr>\n",
              "  </tbody>\n",
              "</table>\n",
              "</div>"
            ],
            "text/plain": [
              "      Column2  Column3  Column4\n",
              "Row1        1        2        3\n",
              "Row2        5        6        7\n",
              "Row3        9       10       11\n",
              "Row4       13       14       15\n",
              "Row5       17       18       19"
            ]
          },
          "metadata": {},
          "execution_count": 204
        }
      ],
      "metadata": {
        "id": "5UFrEB0JKAEV",
        "outputId": "1e0dfa7f-3095-4462-fb7b-ae7b517dfb96"
      }
    },
    {
      "cell_type": "code",
      "execution_count": null,
      "source": [
        "#convert Dataframes into array\r\n",
        "df.iloc[:,1:].values"
      ],
      "outputs": [
        {
          "output_type": "execute_result",
          "data": {
            "text/plain": [
              "array([[ 1,  2,  3],\n",
              "       [ 5,  6,  7],\n",
              "       [ 9, 10, 11],\n",
              "       [13, 14, 15],\n",
              "       [17, 18, 19]])"
            ]
          },
          "metadata": {},
          "execution_count": 205
        }
      ],
      "metadata": {
        "id": "NU6QiiKjKAEW",
        "outputId": "8c3a2bfb-390b-42eb-aff2-194d4077a1bb"
      }
    },
    {
      "cell_type": "code",
      "execution_count": null,
      "source": [
        "df.isnull().sum()"
      ],
      "outputs": [
        {
          "output_type": "execute_result",
          "data": {
            "text/plain": [
              "Column1    0\n",
              "Column2    0\n",
              "Column3    0\n",
              "Column4    0\n",
              "dtype: int64"
            ]
          },
          "metadata": {},
          "execution_count": 206
        }
      ],
      "metadata": {
        "id": "QaB2LeqxKAEW",
        "outputId": "13a37c12-f9ee-489b-9dc0-33af40b859c4"
      }
    },
    {
      "cell_type": "code",
      "execution_count": null,
      "source": [
        "df['Column1'].value_counts()"
      ],
      "outputs": [
        {
          "output_type": "execute_result",
          "data": {
            "text/plain": [
              "12    1\n",
              "4     1\n",
              "16    1\n",
              "8     1\n",
              "0     1\n",
              "Name: Column1, dtype: int64"
            ]
          },
          "metadata": {},
          "execution_count": 207
        }
      ],
      "metadata": {
        "id": "NKXXelC8KAEX",
        "outputId": "129bfe26-ce0c-4594-dd20-69102c2bcea8"
      }
    },
    {
      "cell_type": "code",
      "execution_count": null,
      "source": [
        "df['Column1'].unique()"
      ],
      "outputs": [
        {
          "output_type": "execute_result",
          "data": {
            "text/plain": [
              "array([ 0,  4,  8, 12, 16])"
            ]
          },
          "metadata": {},
          "execution_count": 208
        }
      ],
      "metadata": {
        "id": "D1w3F5ZoKAEX",
        "outputId": "422cee0b-f6ae-41cd-87ba-d26b0bedb3be"
      }
    },
    {
      "cell_type": "code",
      "execution_count": null,
      "source": [
        "df=pd.read_csv('mercedesbenz.csv')"
      ],
      "outputs": [],
      "metadata": {
        "id": "0aAK8fGlKAEX"
      }
    },
    {
      "cell_type": "code",
      "execution_count": null,
      "source": [
        "df.head()"
      ],
      "outputs": [
        {
          "output_type": "execute_result",
          "data": {
            "text/html": [
              "<div>\n",
              "<style scoped>\n",
              "    .dataframe tbody tr th:only-of-type {\n",
              "        vertical-align: middle;\n",
              "    }\n",
              "\n",
              "    .dataframe tbody tr th {\n",
              "        vertical-align: top;\n",
              "    }\n",
              "\n",
              "    .dataframe thead th {\n",
              "        text-align: right;\n",
              "    }\n",
              "</style>\n",
              "<table border=\"1\" class=\"dataframe\">\n",
              "  <thead>\n",
              "    <tr style=\"text-align: right;\">\n",
              "      <th></th>\n",
              "      <th>ID</th>\n",
              "      <th>y</th>\n",
              "      <th>X0</th>\n",
              "      <th>X1</th>\n",
              "      <th>X2</th>\n",
              "      <th>X3</th>\n",
              "      <th>X4</th>\n",
              "      <th>X5</th>\n",
              "      <th>X6</th>\n",
              "      <th>X8</th>\n",
              "      <th>...</th>\n",
              "      <th>X375</th>\n",
              "      <th>X376</th>\n",
              "      <th>X377</th>\n",
              "      <th>X378</th>\n",
              "      <th>X379</th>\n",
              "      <th>X380</th>\n",
              "      <th>X382</th>\n",
              "      <th>X383</th>\n",
              "      <th>X384</th>\n",
              "      <th>X385</th>\n",
              "    </tr>\n",
              "  </thead>\n",
              "  <tbody>\n",
              "    <tr>\n",
              "      <th>0</th>\n",
              "      <td>0</td>\n",
              "      <td>130.81</td>\n",
              "      <td>k</td>\n",
              "      <td>v</td>\n",
              "      <td>at</td>\n",
              "      <td>a</td>\n",
              "      <td>d</td>\n",
              "      <td>u</td>\n",
              "      <td>j</td>\n",
              "      <td>o</td>\n",
              "      <td>...</td>\n",
              "      <td>0</td>\n",
              "      <td>0</td>\n",
              "      <td>1</td>\n",
              "      <td>0</td>\n",
              "      <td>0</td>\n",
              "      <td>0</td>\n",
              "      <td>0</td>\n",
              "      <td>0</td>\n",
              "      <td>0</td>\n",
              "      <td>0</td>\n",
              "    </tr>\n",
              "    <tr>\n",
              "      <th>1</th>\n",
              "      <td>6</td>\n",
              "      <td>88.53</td>\n",
              "      <td>k</td>\n",
              "      <td>t</td>\n",
              "      <td>av</td>\n",
              "      <td>e</td>\n",
              "      <td>d</td>\n",
              "      <td>y</td>\n",
              "      <td>l</td>\n",
              "      <td>o</td>\n",
              "      <td>...</td>\n",
              "      <td>1</td>\n",
              "      <td>0</td>\n",
              "      <td>0</td>\n",
              "      <td>0</td>\n",
              "      <td>0</td>\n",
              "      <td>0</td>\n",
              "      <td>0</td>\n",
              "      <td>0</td>\n",
              "      <td>0</td>\n",
              "      <td>0</td>\n",
              "    </tr>\n",
              "    <tr>\n",
              "      <th>2</th>\n",
              "      <td>7</td>\n",
              "      <td>76.26</td>\n",
              "      <td>az</td>\n",
              "      <td>w</td>\n",
              "      <td>n</td>\n",
              "      <td>c</td>\n",
              "      <td>d</td>\n",
              "      <td>x</td>\n",
              "      <td>j</td>\n",
              "      <td>x</td>\n",
              "      <td>...</td>\n",
              "      <td>0</td>\n",
              "      <td>0</td>\n",
              "      <td>0</td>\n",
              "      <td>0</td>\n",
              "      <td>0</td>\n",
              "      <td>0</td>\n",
              "      <td>1</td>\n",
              "      <td>0</td>\n",
              "      <td>0</td>\n",
              "      <td>0</td>\n",
              "    </tr>\n",
              "    <tr>\n",
              "      <th>3</th>\n",
              "      <td>9</td>\n",
              "      <td>80.62</td>\n",
              "      <td>az</td>\n",
              "      <td>t</td>\n",
              "      <td>n</td>\n",
              "      <td>f</td>\n",
              "      <td>d</td>\n",
              "      <td>x</td>\n",
              "      <td>l</td>\n",
              "      <td>e</td>\n",
              "      <td>...</td>\n",
              "      <td>0</td>\n",
              "      <td>0</td>\n",
              "      <td>0</td>\n",
              "      <td>0</td>\n",
              "      <td>0</td>\n",
              "      <td>0</td>\n",
              "      <td>0</td>\n",
              "      <td>0</td>\n",
              "      <td>0</td>\n",
              "      <td>0</td>\n",
              "    </tr>\n",
              "    <tr>\n",
              "      <th>4</th>\n",
              "      <td>13</td>\n",
              "      <td>78.02</td>\n",
              "      <td>az</td>\n",
              "      <td>v</td>\n",
              "      <td>n</td>\n",
              "      <td>f</td>\n",
              "      <td>d</td>\n",
              "      <td>h</td>\n",
              "      <td>d</td>\n",
              "      <td>n</td>\n",
              "      <td>...</td>\n",
              "      <td>0</td>\n",
              "      <td>0</td>\n",
              "      <td>0</td>\n",
              "      <td>0</td>\n",
              "      <td>0</td>\n",
              "      <td>0</td>\n",
              "      <td>0</td>\n",
              "      <td>0</td>\n",
              "      <td>0</td>\n",
              "      <td>0</td>\n",
              "    </tr>\n",
              "  </tbody>\n",
              "</table>\n",
              "<p>5 rows × 378 columns</p>\n",
              "</div>"
            ],
            "text/plain": [
              "   ID       y  X0 X1  X2 X3 X4 X5 X6 X8  ...  X375  X376  X377  X378  X379  \\\n",
              "0   0  130.81   k  v  at  a  d  u  j  o  ...     0     0     1     0     0   \n",
              "1   6   88.53   k  t  av  e  d  y  l  o  ...     1     0     0     0     0   \n",
              "2   7   76.26  az  w   n  c  d  x  j  x  ...     0     0     0     0     0   \n",
              "3   9   80.62  az  t   n  f  d  x  l  e  ...     0     0     0     0     0   \n",
              "4  13   78.02  az  v   n  f  d  h  d  n  ...     0     0     0     0     0   \n",
              "\n",
              "   X380  X382  X383  X384  X385  \n",
              "0     0     0     0     0     0  \n",
              "1     0     0     0     0     0  \n",
              "2     0     1     0     0     0  \n",
              "3     0     0     0     0     0  \n",
              "4     0     0     0     0     0  \n",
              "\n",
              "[5 rows x 378 columns]"
            ]
          },
          "metadata": {},
          "execution_count": 215
        }
      ],
      "metadata": {
        "id": "4kVmJ-SNKAEX",
        "outputId": "0b080e63-0ec4-4fba-b672-ce2e5d666d94"
      }
    },
    {
      "cell_type": "code",
      "execution_count": null,
      "source": [
        "df.info()"
      ],
      "outputs": [
        {
          "output_type": "stream",
          "name": "stdout",
          "text": [
            "<class 'pandas.core.frame.DataFrame'>\n",
            "RangeIndex: 4209 entries, 0 to 4208\n",
            "Columns: 378 entries, ID to X385\n",
            "dtypes: float64(1), int64(369), object(8)\n",
            "memory usage: 12.1+ MB\n"
          ]
        }
      ],
      "metadata": {
        "id": "ohJYjPZuKAEX",
        "outputId": "3bfa0983-1dae-4d72-b7a6-6dbac59a0781"
      }
    },
    {
      "cell_type": "code",
      "execution_count": null,
      "source": [
        "df.describe()"
      ],
      "outputs": [
        {
          "output_type": "execute_result",
          "data": {
            "text/html": [
              "<div>\n",
              "<style scoped>\n",
              "    .dataframe tbody tr th:only-of-type {\n",
              "        vertical-align: middle;\n",
              "    }\n",
              "\n",
              "    .dataframe tbody tr th {\n",
              "        vertical-align: top;\n",
              "    }\n",
              "\n",
              "    .dataframe thead th {\n",
              "        text-align: right;\n",
              "    }\n",
              "</style>\n",
              "<table border=\"1\" class=\"dataframe\">\n",
              "  <thead>\n",
              "    <tr style=\"text-align: right;\">\n",
              "      <th></th>\n",
              "      <th>ID</th>\n",
              "      <th>y</th>\n",
              "      <th>X10</th>\n",
              "      <th>X11</th>\n",
              "      <th>X12</th>\n",
              "      <th>X13</th>\n",
              "      <th>X14</th>\n",
              "      <th>X15</th>\n",
              "      <th>X16</th>\n",
              "      <th>X17</th>\n",
              "      <th>...</th>\n",
              "      <th>X375</th>\n",
              "      <th>X376</th>\n",
              "      <th>X377</th>\n",
              "      <th>X378</th>\n",
              "      <th>X379</th>\n",
              "      <th>X380</th>\n",
              "      <th>X382</th>\n",
              "      <th>X383</th>\n",
              "      <th>X384</th>\n",
              "      <th>X385</th>\n",
              "    </tr>\n",
              "  </thead>\n",
              "  <tbody>\n",
              "    <tr>\n",
              "      <th>count</th>\n",
              "      <td>4209.000000</td>\n",
              "      <td>4209.000000</td>\n",
              "      <td>4209.000000</td>\n",
              "      <td>4209.0</td>\n",
              "      <td>4209.000000</td>\n",
              "      <td>4209.000000</td>\n",
              "      <td>4209.000000</td>\n",
              "      <td>4209.000000</td>\n",
              "      <td>4209.000000</td>\n",
              "      <td>4209.000000</td>\n",
              "      <td>...</td>\n",
              "      <td>4209.000000</td>\n",
              "      <td>4209.000000</td>\n",
              "      <td>4209.000000</td>\n",
              "      <td>4209.000000</td>\n",
              "      <td>4209.000000</td>\n",
              "      <td>4209.000000</td>\n",
              "      <td>4209.000000</td>\n",
              "      <td>4209.000000</td>\n",
              "      <td>4209.000000</td>\n",
              "      <td>4209.000000</td>\n",
              "    </tr>\n",
              "    <tr>\n",
              "      <th>mean</th>\n",
              "      <td>4205.960798</td>\n",
              "      <td>100.669318</td>\n",
              "      <td>0.013305</td>\n",
              "      <td>0.0</td>\n",
              "      <td>0.075077</td>\n",
              "      <td>0.057971</td>\n",
              "      <td>0.428130</td>\n",
              "      <td>0.000475</td>\n",
              "      <td>0.002613</td>\n",
              "      <td>0.007603</td>\n",
              "      <td>...</td>\n",
              "      <td>0.318841</td>\n",
              "      <td>0.057258</td>\n",
              "      <td>0.314802</td>\n",
              "      <td>0.020670</td>\n",
              "      <td>0.009503</td>\n",
              "      <td>0.008078</td>\n",
              "      <td>0.007603</td>\n",
              "      <td>0.001663</td>\n",
              "      <td>0.000475</td>\n",
              "      <td>0.001426</td>\n",
              "    </tr>\n",
              "    <tr>\n",
              "      <th>std</th>\n",
              "      <td>2437.608688</td>\n",
              "      <td>12.679381</td>\n",
              "      <td>0.114590</td>\n",
              "      <td>0.0</td>\n",
              "      <td>0.263547</td>\n",
              "      <td>0.233716</td>\n",
              "      <td>0.494867</td>\n",
              "      <td>0.021796</td>\n",
              "      <td>0.051061</td>\n",
              "      <td>0.086872</td>\n",
              "      <td>...</td>\n",
              "      <td>0.466082</td>\n",
              "      <td>0.232363</td>\n",
              "      <td>0.464492</td>\n",
              "      <td>0.142294</td>\n",
              "      <td>0.097033</td>\n",
              "      <td>0.089524</td>\n",
              "      <td>0.086872</td>\n",
              "      <td>0.040752</td>\n",
              "      <td>0.021796</td>\n",
              "      <td>0.037734</td>\n",
              "    </tr>\n",
              "    <tr>\n",
              "      <th>min</th>\n",
              "      <td>0.000000</td>\n",
              "      <td>72.110000</td>\n",
              "      <td>0.000000</td>\n",
              "      <td>0.0</td>\n",
              "      <td>0.000000</td>\n",
              "      <td>0.000000</td>\n",
              "      <td>0.000000</td>\n",
              "      <td>0.000000</td>\n",
              "      <td>0.000000</td>\n",
              "      <td>0.000000</td>\n",
              "      <td>...</td>\n",
              "      <td>0.000000</td>\n",
              "      <td>0.000000</td>\n",
              "      <td>0.000000</td>\n",
              "      <td>0.000000</td>\n",
              "      <td>0.000000</td>\n",
              "      <td>0.000000</td>\n",
              "      <td>0.000000</td>\n",
              "      <td>0.000000</td>\n",
              "      <td>0.000000</td>\n",
              "      <td>0.000000</td>\n",
              "    </tr>\n",
              "    <tr>\n",
              "      <th>25%</th>\n",
              "      <td>2095.000000</td>\n",
              "      <td>90.820000</td>\n",
              "      <td>0.000000</td>\n",
              "      <td>0.0</td>\n",
              "      <td>0.000000</td>\n",
              "      <td>0.000000</td>\n",
              "      <td>0.000000</td>\n",
              "      <td>0.000000</td>\n",
              "      <td>0.000000</td>\n",
              "      <td>0.000000</td>\n",
              "      <td>...</td>\n",
              "      <td>0.000000</td>\n",
              "      <td>0.000000</td>\n",
              "      <td>0.000000</td>\n",
              "      <td>0.000000</td>\n",
              "      <td>0.000000</td>\n",
              "      <td>0.000000</td>\n",
              "      <td>0.000000</td>\n",
              "      <td>0.000000</td>\n",
              "      <td>0.000000</td>\n",
              "      <td>0.000000</td>\n",
              "    </tr>\n",
              "    <tr>\n",
              "      <th>50%</th>\n",
              "      <td>4220.000000</td>\n",
              "      <td>99.150000</td>\n",
              "      <td>0.000000</td>\n",
              "      <td>0.0</td>\n",
              "      <td>0.000000</td>\n",
              "      <td>0.000000</td>\n",
              "      <td>0.000000</td>\n",
              "      <td>0.000000</td>\n",
              "      <td>0.000000</td>\n",
              "      <td>0.000000</td>\n",
              "      <td>...</td>\n",
              "      <td>0.000000</td>\n",
              "      <td>0.000000</td>\n",
              "      <td>0.000000</td>\n",
              "      <td>0.000000</td>\n",
              "      <td>0.000000</td>\n",
              "      <td>0.000000</td>\n",
              "      <td>0.000000</td>\n",
              "      <td>0.000000</td>\n",
              "      <td>0.000000</td>\n",
              "      <td>0.000000</td>\n",
              "    </tr>\n",
              "    <tr>\n",
              "      <th>75%</th>\n",
              "      <td>6314.000000</td>\n",
              "      <td>109.010000</td>\n",
              "      <td>0.000000</td>\n",
              "      <td>0.0</td>\n",
              "      <td>0.000000</td>\n",
              "      <td>0.000000</td>\n",
              "      <td>1.000000</td>\n",
              "      <td>0.000000</td>\n",
              "      <td>0.000000</td>\n",
              "      <td>0.000000</td>\n",
              "      <td>...</td>\n",
              "      <td>1.000000</td>\n",
              "      <td>0.000000</td>\n",
              "      <td>1.000000</td>\n",
              "      <td>0.000000</td>\n",
              "      <td>0.000000</td>\n",
              "      <td>0.000000</td>\n",
              "      <td>0.000000</td>\n",
              "      <td>0.000000</td>\n",
              "      <td>0.000000</td>\n",
              "      <td>0.000000</td>\n",
              "    </tr>\n",
              "    <tr>\n",
              "      <th>max</th>\n",
              "      <td>8417.000000</td>\n",
              "      <td>265.320000</td>\n",
              "      <td>1.000000</td>\n",
              "      <td>0.0</td>\n",
              "      <td>1.000000</td>\n",
              "      <td>1.000000</td>\n",
              "      <td>1.000000</td>\n",
              "      <td>1.000000</td>\n",
              "      <td>1.000000</td>\n",
              "      <td>1.000000</td>\n",
              "      <td>...</td>\n",
              "      <td>1.000000</td>\n",
              "      <td>1.000000</td>\n",
              "      <td>1.000000</td>\n",
              "      <td>1.000000</td>\n",
              "      <td>1.000000</td>\n",
              "      <td>1.000000</td>\n",
              "      <td>1.000000</td>\n",
              "      <td>1.000000</td>\n",
              "      <td>1.000000</td>\n",
              "      <td>1.000000</td>\n",
              "    </tr>\n",
              "  </tbody>\n",
              "</table>\n",
              "<p>8 rows × 370 columns</p>\n",
              "</div>"
            ],
            "text/plain": [
              "                ID            y          X10     X11          X12  \\\n",
              "count  4209.000000  4209.000000  4209.000000  4209.0  4209.000000   \n",
              "mean   4205.960798   100.669318     0.013305     0.0     0.075077   \n",
              "std    2437.608688    12.679381     0.114590     0.0     0.263547   \n",
              "min       0.000000    72.110000     0.000000     0.0     0.000000   \n",
              "25%    2095.000000    90.820000     0.000000     0.0     0.000000   \n",
              "50%    4220.000000    99.150000     0.000000     0.0     0.000000   \n",
              "75%    6314.000000   109.010000     0.000000     0.0     0.000000   \n",
              "max    8417.000000   265.320000     1.000000     0.0     1.000000   \n",
              "\n",
              "               X13          X14          X15          X16          X17  ...  \\\n",
              "count  4209.000000  4209.000000  4209.000000  4209.000000  4209.000000  ...   \n",
              "mean      0.057971     0.428130     0.000475     0.002613     0.007603  ...   \n",
              "std       0.233716     0.494867     0.021796     0.051061     0.086872  ...   \n",
              "min       0.000000     0.000000     0.000000     0.000000     0.000000  ...   \n",
              "25%       0.000000     0.000000     0.000000     0.000000     0.000000  ...   \n",
              "50%       0.000000     0.000000     0.000000     0.000000     0.000000  ...   \n",
              "75%       0.000000     1.000000     0.000000     0.000000     0.000000  ...   \n",
              "max       1.000000     1.000000     1.000000     1.000000     1.000000  ...   \n",
              "\n",
              "              X375         X376         X377         X378         X379  \\\n",
              "count  4209.000000  4209.000000  4209.000000  4209.000000  4209.000000   \n",
              "mean      0.318841     0.057258     0.314802     0.020670     0.009503   \n",
              "std       0.466082     0.232363     0.464492     0.142294     0.097033   \n",
              "min       0.000000     0.000000     0.000000     0.000000     0.000000   \n",
              "25%       0.000000     0.000000     0.000000     0.000000     0.000000   \n",
              "50%       0.000000     0.000000     0.000000     0.000000     0.000000   \n",
              "75%       1.000000     0.000000     1.000000     0.000000     0.000000   \n",
              "max       1.000000     1.000000     1.000000     1.000000     1.000000   \n",
              "\n",
              "              X380         X382         X383         X384         X385  \n",
              "count  4209.000000  4209.000000  4209.000000  4209.000000  4209.000000  \n",
              "mean      0.008078     0.007603     0.001663     0.000475     0.001426  \n",
              "std       0.089524     0.086872     0.040752     0.021796     0.037734  \n",
              "min       0.000000     0.000000     0.000000     0.000000     0.000000  \n",
              "25%       0.000000     0.000000     0.000000     0.000000     0.000000  \n",
              "50%       0.000000     0.000000     0.000000     0.000000     0.000000  \n",
              "75%       0.000000     0.000000     0.000000     0.000000     0.000000  \n",
              "max       1.000000     1.000000     1.000000     1.000000     1.000000  \n",
              "\n",
              "[8 rows x 370 columns]"
            ]
          },
          "metadata": {},
          "execution_count": 186
        }
      ],
      "metadata": {
        "id": "uJHj-rUAKAEY",
        "outputId": "b04cf413-4bc4-48a6-d24b-f2125069a057"
      }
    },
    {
      "cell_type": "code",
      "execution_count": null,
      "source": [
        "#Get the unique category counts\r\n",
        "df['X0'].value_counts()"
      ],
      "outputs": [
        {
          "output_type": "execute_result",
          "data": {
            "text/plain": [
              "z     360\n",
              "ak    349\n",
              "y     324\n",
              "ay    313\n",
              "t     306\n",
              "x     300\n",
              "o     269\n",
              "f     227\n",
              "n     195\n",
              "w     182\n",
              "j     181\n",
              "az    175\n",
              "aj    151\n",
              "s     106\n",
              "ap    103\n",
              "h      75\n",
              "d      73\n",
              "al     67\n",
              "v      36\n",
              "af     35\n",
              "ai     34\n",
              "m      34\n",
              "e      32\n",
              "ba     27\n",
              "at     25\n",
              "a      21\n",
              "ax     19\n",
              "i      18\n",
              "aq     18\n",
              "am     18\n",
              "u      17\n",
              "l      16\n",
              "aw     16\n",
              "ad     14\n",
              "au     11\n",
              "b      11\n",
              "k      11\n",
              "r      10\n",
              "as     10\n",
              "bc      6\n",
              "ao      4\n",
              "c       3\n",
              "aa      2\n",
              "q       2\n",
              "ac      1\n",
              "ab      1\n",
              "g       1\n",
              "Name: X0, dtype: int64"
            ]
          },
          "metadata": {},
          "execution_count": 187
        }
      ],
      "metadata": {
        "id": "NWfw18_MKAEY",
        "outputId": "400ef0f7-f6d3-4cb7-ab65-22b4541ff9e8"
      }
    },
    {
      "cell_type": "code",
      "execution_count": null,
      "source": [
        "df[df['y']>100]"
      ],
      "outputs": [
        {
          "output_type": "execute_result",
          "data": {
            "text/html": [
              "<div>\n",
              "<style scoped>\n",
              "    .dataframe tbody tr th:only-of-type {\n",
              "        vertical-align: middle;\n",
              "    }\n",
              "\n",
              "    .dataframe tbody tr th {\n",
              "        vertical-align: top;\n",
              "    }\n",
              "\n",
              "    .dataframe thead th {\n",
              "        text-align: right;\n",
              "    }\n",
              "</style>\n",
              "<table border=\"1\" class=\"dataframe\">\n",
              "  <thead>\n",
              "    <tr style=\"text-align: right;\">\n",
              "      <th></th>\n",
              "      <th>ID</th>\n",
              "      <th>y</th>\n",
              "      <th>X0</th>\n",
              "      <th>X1</th>\n",
              "      <th>X2</th>\n",
              "      <th>X3</th>\n",
              "      <th>X4</th>\n",
              "      <th>X5</th>\n",
              "      <th>X6</th>\n",
              "      <th>X8</th>\n",
              "      <th>...</th>\n",
              "      <th>X375</th>\n",
              "      <th>X376</th>\n",
              "      <th>X377</th>\n",
              "      <th>X378</th>\n",
              "      <th>X379</th>\n",
              "      <th>X380</th>\n",
              "      <th>X382</th>\n",
              "      <th>X383</th>\n",
              "      <th>X384</th>\n",
              "      <th>X385</th>\n",
              "    </tr>\n",
              "  </thead>\n",
              "  <tbody>\n",
              "    <tr>\n",
              "      <th>0</th>\n",
              "      <td>0</td>\n",
              "      <td>130.81</td>\n",
              "      <td>k</td>\n",
              "      <td>v</td>\n",
              "      <td>at</td>\n",
              "      <td>a</td>\n",
              "      <td>d</td>\n",
              "      <td>u</td>\n",
              "      <td>j</td>\n",
              "      <td>o</td>\n",
              "      <td>...</td>\n",
              "      <td>0</td>\n",
              "      <td>0</td>\n",
              "      <td>1</td>\n",
              "      <td>0</td>\n",
              "      <td>0</td>\n",
              "      <td>0</td>\n",
              "      <td>0</td>\n",
              "      <td>0</td>\n",
              "      <td>0</td>\n",
              "      <td>0</td>\n",
              "    </tr>\n",
              "    <tr>\n",
              "      <th>6</th>\n",
              "      <td>24</td>\n",
              "      <td>128.76</td>\n",
              "      <td>al</td>\n",
              "      <td>r</td>\n",
              "      <td>e</td>\n",
              "      <td>f</td>\n",
              "      <td>d</td>\n",
              "      <td>f</td>\n",
              "      <td>h</td>\n",
              "      <td>s</td>\n",
              "      <td>...</td>\n",
              "      <td>0</td>\n",
              "      <td>0</td>\n",
              "      <td>0</td>\n",
              "      <td>0</td>\n",
              "      <td>0</td>\n",
              "      <td>0</td>\n",
              "      <td>0</td>\n",
              "      <td>0</td>\n",
              "      <td>0</td>\n",
              "      <td>0</td>\n",
              "    </tr>\n",
              "    <tr>\n",
              "      <th>8</th>\n",
              "      <td>27</td>\n",
              "      <td>108.67</td>\n",
              "      <td>w</td>\n",
              "      <td>s</td>\n",
              "      <td>as</td>\n",
              "      <td>e</td>\n",
              "      <td>d</td>\n",
              "      <td>f</td>\n",
              "      <td>i</td>\n",
              "      <td>h</td>\n",
              "      <td>...</td>\n",
              "      <td>1</td>\n",
              "      <td>0</td>\n",
              "      <td>0</td>\n",
              "      <td>0</td>\n",
              "      <td>0</td>\n",
              "      <td>0</td>\n",
              "      <td>0</td>\n",
              "      <td>0</td>\n",
              "      <td>0</td>\n",
              "      <td>0</td>\n",
              "    </tr>\n",
              "    <tr>\n",
              "      <th>9</th>\n",
              "      <td>30</td>\n",
              "      <td>126.99</td>\n",
              "      <td>j</td>\n",
              "      <td>b</td>\n",
              "      <td>aq</td>\n",
              "      <td>c</td>\n",
              "      <td>d</td>\n",
              "      <td>f</td>\n",
              "      <td>a</td>\n",
              "      <td>e</td>\n",
              "      <td>...</td>\n",
              "      <td>0</td>\n",
              "      <td>0</td>\n",
              "      <td>1</td>\n",
              "      <td>0</td>\n",
              "      <td>0</td>\n",
              "      <td>0</td>\n",
              "      <td>0</td>\n",
              "      <td>0</td>\n",
              "      <td>0</td>\n",
              "      <td>0</td>\n",
              "    </tr>\n",
              "    <tr>\n",
              "      <th>10</th>\n",
              "      <td>31</td>\n",
              "      <td>102.09</td>\n",
              "      <td>h</td>\n",
              "      <td>r</td>\n",
              "      <td>r</td>\n",
              "      <td>f</td>\n",
              "      <td>d</td>\n",
              "      <td>f</td>\n",
              "      <td>h</td>\n",
              "      <td>p</td>\n",
              "      <td>...</td>\n",
              "      <td>0</td>\n",
              "      <td>0</td>\n",
              "      <td>0</td>\n",
              "      <td>0</td>\n",
              "      <td>0</td>\n",
              "      <td>0</td>\n",
              "      <td>0</td>\n",
              "      <td>0</td>\n",
              "      <td>0</td>\n",
              "      <td>0</td>\n",
              "    </tr>\n",
              "    <tr>\n",
              "      <th>...</th>\n",
              "      <td>...</td>\n",
              "      <td>...</td>\n",
              "      <td>...</td>\n",
              "      <td>...</td>\n",
              "      <td>...</td>\n",
              "      <td>...</td>\n",
              "      <td>...</td>\n",
              "      <td>...</td>\n",
              "      <td>...</td>\n",
              "      <td>...</td>\n",
              "      <td>...</td>\n",
              "      <td>...</td>\n",
              "      <td>...</td>\n",
              "      <td>...</td>\n",
              "      <td>...</td>\n",
              "      <td>...</td>\n",
              "      <td>...</td>\n",
              "      <td>...</td>\n",
              "      <td>...</td>\n",
              "      <td>...</td>\n",
              "      <td>...</td>\n",
              "    </tr>\n",
              "    <tr>\n",
              "      <th>4202</th>\n",
              "      <td>8402</td>\n",
              "      <td>123.34</td>\n",
              "      <td>ap</td>\n",
              "      <td>l</td>\n",
              "      <td>s</td>\n",
              "      <td>c</td>\n",
              "      <td>d</td>\n",
              "      <td>aa</td>\n",
              "      <td>d</td>\n",
              "      <td>r</td>\n",
              "      <td>...</td>\n",
              "      <td>0</td>\n",
              "      <td>0</td>\n",
              "      <td>0</td>\n",
              "      <td>0</td>\n",
              "      <td>0</td>\n",
              "      <td>0</td>\n",
              "      <td>0</td>\n",
              "      <td>0</td>\n",
              "      <td>0</td>\n",
              "      <td>0</td>\n",
              "    </tr>\n",
              "    <tr>\n",
              "      <th>4204</th>\n",
              "      <td>8405</td>\n",
              "      <td>107.39</td>\n",
              "      <td>ak</td>\n",
              "      <td>s</td>\n",
              "      <td>as</td>\n",
              "      <td>c</td>\n",
              "      <td>d</td>\n",
              "      <td>aa</td>\n",
              "      <td>d</td>\n",
              "      <td>q</td>\n",
              "      <td>...</td>\n",
              "      <td>1</td>\n",
              "      <td>0</td>\n",
              "      <td>0</td>\n",
              "      <td>0</td>\n",
              "      <td>0</td>\n",
              "      <td>0</td>\n",
              "      <td>0</td>\n",
              "      <td>0</td>\n",
              "      <td>0</td>\n",
              "      <td>0</td>\n",
              "    </tr>\n",
              "    <tr>\n",
              "      <th>4205</th>\n",
              "      <td>8406</td>\n",
              "      <td>108.77</td>\n",
              "      <td>j</td>\n",
              "      <td>o</td>\n",
              "      <td>t</td>\n",
              "      <td>d</td>\n",
              "      <td>d</td>\n",
              "      <td>aa</td>\n",
              "      <td>h</td>\n",
              "      <td>h</td>\n",
              "      <td>...</td>\n",
              "      <td>0</td>\n",
              "      <td>1</td>\n",
              "      <td>0</td>\n",
              "      <td>0</td>\n",
              "      <td>0</td>\n",
              "      <td>0</td>\n",
              "      <td>0</td>\n",
              "      <td>0</td>\n",
              "      <td>0</td>\n",
              "      <td>0</td>\n",
              "    </tr>\n",
              "    <tr>\n",
              "      <th>4206</th>\n",
              "      <td>8412</td>\n",
              "      <td>109.22</td>\n",
              "      <td>ak</td>\n",
              "      <td>v</td>\n",
              "      <td>r</td>\n",
              "      <td>a</td>\n",
              "      <td>d</td>\n",
              "      <td>aa</td>\n",
              "      <td>g</td>\n",
              "      <td>e</td>\n",
              "      <td>...</td>\n",
              "      <td>0</td>\n",
              "      <td>0</td>\n",
              "      <td>1</td>\n",
              "      <td>0</td>\n",
              "      <td>0</td>\n",
              "      <td>0</td>\n",
              "      <td>0</td>\n",
              "      <td>0</td>\n",
              "      <td>0</td>\n",
              "      <td>0</td>\n",
              "    </tr>\n",
              "    <tr>\n",
              "      <th>4208</th>\n",
              "      <td>8417</td>\n",
              "      <td>110.85</td>\n",
              "      <td>z</td>\n",
              "      <td>r</td>\n",
              "      <td>ae</td>\n",
              "      <td>c</td>\n",
              "      <td>d</td>\n",
              "      <td>aa</td>\n",
              "      <td>g</td>\n",
              "      <td>w</td>\n",
              "      <td>...</td>\n",
              "      <td>1</td>\n",
              "      <td>0</td>\n",
              "      <td>0</td>\n",
              "      <td>0</td>\n",
              "      <td>0</td>\n",
              "      <td>0</td>\n",
              "      <td>0</td>\n",
              "      <td>0</td>\n",
              "      <td>0</td>\n",
              "      <td>0</td>\n",
              "    </tr>\n",
              "  </tbody>\n",
              "</table>\n",
              "<p>2004 rows × 378 columns</p>\n",
              "</div>"
            ],
            "text/plain": [
              "        ID       y  X0 X1  X2 X3 X4  X5 X6 X8  ...  X375  X376  X377  X378  \\\n",
              "0        0  130.81   k  v  at  a  d   u  j  o  ...     0     0     1     0   \n",
              "6       24  128.76  al  r   e  f  d   f  h  s  ...     0     0     0     0   \n",
              "8       27  108.67   w  s  as  e  d   f  i  h  ...     1     0     0     0   \n",
              "9       30  126.99   j  b  aq  c  d   f  a  e  ...     0     0     1     0   \n",
              "10      31  102.09   h  r   r  f  d   f  h  p  ...     0     0     0     0   \n",
              "...    ...     ...  .. ..  .. .. ..  .. .. ..  ...   ...   ...   ...   ...   \n",
              "4202  8402  123.34  ap  l   s  c  d  aa  d  r  ...     0     0     0     0   \n",
              "4204  8405  107.39  ak  s  as  c  d  aa  d  q  ...     1     0     0     0   \n",
              "4205  8406  108.77   j  o   t  d  d  aa  h  h  ...     0     1     0     0   \n",
              "4206  8412  109.22  ak  v   r  a  d  aa  g  e  ...     0     0     1     0   \n",
              "4208  8417  110.85   z  r  ae  c  d  aa  g  w  ...     1     0     0     0   \n",
              "\n",
              "      X379  X380  X382  X383  X384  X385  \n",
              "0        0     0     0     0     0     0  \n",
              "6        0     0     0     0     0     0  \n",
              "8        0     0     0     0     0     0  \n",
              "9        0     0     0     0     0     0  \n",
              "10       0     0     0     0     0     0  \n",
              "...    ...   ...   ...   ...   ...   ...  \n",
              "4202     0     0     0     0     0     0  \n",
              "4204     0     0     0     0     0     0  \n",
              "4205     0     0     0     0     0     0  \n",
              "4206     0     0     0     0     0     0  \n",
              "4208     0     0     0     0     0     0  \n",
              "\n",
              "[2004 rows x 378 columns]"
            ]
          },
          "metadata": {},
          "execution_count": 188
        }
      ],
      "metadata": {
        "id": "-pzKoIsEKAEY",
        "outputId": "08d5a1ce-52d6-496c-99ef-84c6601bda29"
      }
    },
    {
      "cell_type": "code",
      "execution_count": null,
      "source": [
        "df.corr()"
      ],
      "outputs": [
        {
          "output_type": "execute_result",
          "data": {
            "text/html": [
              "<div>\n",
              "<style scoped>\n",
              "    .dataframe tbody tr th:only-of-type {\n",
              "        vertical-align: middle;\n",
              "    }\n",
              "\n",
              "    .dataframe tbody tr th {\n",
              "        vertical-align: top;\n",
              "    }\n",
              "\n",
              "    .dataframe thead th {\n",
              "        text-align: right;\n",
              "    }\n",
              "</style>\n",
              "<table border=\"1\" class=\"dataframe\">\n",
              "  <thead>\n",
              "    <tr style=\"text-align: right;\">\n",
              "      <th></th>\n",
              "      <th>ID</th>\n",
              "      <th>y</th>\n",
              "      <th>X10</th>\n",
              "      <th>X11</th>\n",
              "      <th>X12</th>\n",
              "      <th>X13</th>\n",
              "      <th>X14</th>\n",
              "      <th>X15</th>\n",
              "      <th>X16</th>\n",
              "      <th>X17</th>\n",
              "      <th>...</th>\n",
              "      <th>X375</th>\n",
              "      <th>X376</th>\n",
              "      <th>X377</th>\n",
              "      <th>X378</th>\n",
              "      <th>X379</th>\n",
              "      <th>X380</th>\n",
              "      <th>X382</th>\n",
              "      <th>X383</th>\n",
              "      <th>X384</th>\n",
              "      <th>X385</th>\n",
              "    </tr>\n",
              "  </thead>\n",
              "  <tbody>\n",
              "    <tr>\n",
              "      <th>ID</th>\n",
              "      <td>1.000000</td>\n",
              "      <td>-0.055108</td>\n",
              "      <td>0.001602</td>\n",
              "      <td>NaN</td>\n",
              "      <td>0.058988</td>\n",
              "      <td>-0.031917</td>\n",
              "      <td>-0.025438</td>\n",
              "      <td>0.002237</td>\n",
              "      <td>-0.036480</td>\n",
              "      <td>-0.038171</td>\n",
              "      <td>...</td>\n",
              "      <td>0.045229</td>\n",
              "      <td>-0.080259</td>\n",
              "      <td>-0.022965</td>\n",
              "      <td>0.030371</td>\n",
              "      <td>0.023382</td>\n",
              "      <td>-0.013577</td>\n",
              "      <td>-0.038171</td>\n",
              "      <td>-0.009332</td>\n",
              "      <td>-0.015355</td>\n",
              "      <td>0.029059</td>\n",
              "    </tr>\n",
              "    <tr>\n",
              "      <th>y</th>\n",
              "      <td>-0.055108</td>\n",
              "      <td>1.000000</td>\n",
              "      <td>-0.026985</td>\n",
              "      <td>NaN</td>\n",
              "      <td>0.089792</td>\n",
              "      <td>0.048276</td>\n",
              "      <td>0.193643</td>\n",
              "      <td>0.023116</td>\n",
              "      <td>0.048946</td>\n",
              "      <td>-0.159815</td>\n",
              "      <td>...</td>\n",
              "      <td>0.029100</td>\n",
              "      <td>0.114005</td>\n",
              "      <td>0.061403</td>\n",
              "      <td>-0.258679</td>\n",
              "      <td>0.067919</td>\n",
              "      <td>0.040932</td>\n",
              "      <td>-0.159815</td>\n",
              "      <td>0.040291</td>\n",
              "      <td>-0.004591</td>\n",
              "      <td>-0.022280</td>\n",
              "    </tr>\n",
              "    <tr>\n",
              "      <th>X10</th>\n",
              "      <td>0.001602</td>\n",
              "      <td>-0.026985</td>\n",
              "      <td>1.000000</td>\n",
              "      <td>NaN</td>\n",
              "      <td>-0.033084</td>\n",
              "      <td>-0.028806</td>\n",
              "      <td>-0.100474</td>\n",
              "      <td>-0.002532</td>\n",
              "      <td>-0.005944</td>\n",
              "      <td>-0.010164</td>\n",
              "      <td>...</td>\n",
              "      <td>0.165277</td>\n",
              "      <td>-0.028618</td>\n",
              "      <td>-0.074244</td>\n",
              "      <td>-0.016870</td>\n",
              "      <td>-0.011374</td>\n",
              "      <td>-0.010479</td>\n",
              "      <td>-0.010164</td>\n",
              "      <td>-0.004740</td>\n",
              "      <td>-0.002532</td>\n",
              "      <td>-0.004387</td>\n",
              "    </tr>\n",
              "    <tr>\n",
              "      <th>X11</th>\n",
              "      <td>NaN</td>\n",
              "      <td>NaN</td>\n",
              "      <td>NaN</td>\n",
              "      <td>NaN</td>\n",
              "      <td>NaN</td>\n",
              "      <td>NaN</td>\n",
              "      <td>NaN</td>\n",
              "      <td>NaN</td>\n",
              "      <td>NaN</td>\n",
              "      <td>NaN</td>\n",
              "      <td>...</td>\n",
              "      <td>NaN</td>\n",
              "      <td>NaN</td>\n",
              "      <td>NaN</td>\n",
              "      <td>NaN</td>\n",
              "      <td>NaN</td>\n",
              "      <td>NaN</td>\n",
              "      <td>NaN</td>\n",
              "      <td>NaN</td>\n",
              "      <td>NaN</td>\n",
              "      <td>NaN</td>\n",
              "    </tr>\n",
              "    <tr>\n",
              "      <th>X12</th>\n",
              "      <td>0.058988</td>\n",
              "      <td>0.089792</td>\n",
              "      <td>-0.033084</td>\n",
              "      <td>NaN</td>\n",
              "      <td>1.000000</td>\n",
              "      <td>0.214825</td>\n",
              "      <td>-0.246513</td>\n",
              "      <td>-0.006212</td>\n",
              "      <td>-0.014584</td>\n",
              "      <td>-0.024937</td>\n",
              "      <td>...</td>\n",
              "      <td>-0.107864</td>\n",
              "      <td>-0.070214</td>\n",
              "      <td>0.030134</td>\n",
              "      <td>-0.016043</td>\n",
              "      <td>-0.027907</td>\n",
              "      <td>-0.005566</td>\n",
              "      <td>-0.024937</td>\n",
              "      <td>-0.011628</td>\n",
              "      <td>-0.006212</td>\n",
              "      <td>-0.010765</td>\n",
              "    </tr>\n",
              "    <tr>\n",
              "      <th>...</th>\n",
              "      <td>...</td>\n",
              "      <td>...</td>\n",
              "      <td>...</td>\n",
              "      <td>...</td>\n",
              "      <td>...</td>\n",
              "      <td>...</td>\n",
              "      <td>...</td>\n",
              "      <td>...</td>\n",
              "      <td>...</td>\n",
              "      <td>...</td>\n",
              "      <td>...</td>\n",
              "      <td>...</td>\n",
              "      <td>...</td>\n",
              "      <td>...</td>\n",
              "      <td>...</td>\n",
              "      <td>...</td>\n",
              "      <td>...</td>\n",
              "      <td>...</td>\n",
              "      <td>...</td>\n",
              "      <td>...</td>\n",
              "      <td>...</td>\n",
              "    </tr>\n",
              "    <tr>\n",
              "      <th>X380</th>\n",
              "      <td>-0.013577</td>\n",
              "      <td>0.040932</td>\n",
              "      <td>-0.010479</td>\n",
              "      <td>NaN</td>\n",
              "      <td>-0.005566</td>\n",
              "      <td>0.023045</td>\n",
              "      <td>0.007743</td>\n",
              "      <td>-0.001968</td>\n",
              "      <td>-0.004619</td>\n",
              "      <td>-0.007899</td>\n",
              "      <td>...</td>\n",
              "      <td>-0.061741</td>\n",
              "      <td>-0.022240</td>\n",
              "      <td>-0.061168</td>\n",
              "      <td>-0.013110</td>\n",
              "      <td>-0.008839</td>\n",
              "      <td>1.000000</td>\n",
              "      <td>-0.007899</td>\n",
              "      <td>-0.003683</td>\n",
              "      <td>-0.001968</td>\n",
              "      <td>-0.003410</td>\n",
              "    </tr>\n",
              "    <tr>\n",
              "      <th>X382</th>\n",
              "      <td>-0.038171</td>\n",
              "      <td>-0.159815</td>\n",
              "      <td>-0.010164</td>\n",
              "      <td>NaN</td>\n",
              "      <td>-0.024937</td>\n",
              "      <td>-0.021713</td>\n",
              "      <td>0.012713</td>\n",
              "      <td>-0.001908</td>\n",
              "      <td>-0.004480</td>\n",
              "      <td>1.000000</td>\n",
              "      <td>...</td>\n",
              "      <td>-0.059883</td>\n",
              "      <td>-0.021571</td>\n",
              "      <td>-0.059327</td>\n",
              "      <td>-0.012716</td>\n",
              "      <td>-0.008573</td>\n",
              "      <td>-0.007899</td>\n",
              "      <td>1.000000</td>\n",
              "      <td>-0.003572</td>\n",
              "      <td>-0.001908</td>\n",
              "      <td>-0.003307</td>\n",
              "    </tr>\n",
              "    <tr>\n",
              "      <th>X383</th>\n",
              "      <td>-0.009332</td>\n",
              "      <td>0.040291</td>\n",
              "      <td>-0.004740</td>\n",
              "      <td>NaN</td>\n",
              "      <td>-0.011628</td>\n",
              "      <td>-0.010125</td>\n",
              "      <td>0.023604</td>\n",
              "      <td>-0.000890</td>\n",
              "      <td>-0.002089</td>\n",
              "      <td>-0.003572</td>\n",
              "      <td>...</td>\n",
              "      <td>-0.015413</td>\n",
              "      <td>-0.010059</td>\n",
              "      <td>0.035107</td>\n",
              "      <td>-0.005930</td>\n",
              "      <td>-0.003998</td>\n",
              "      <td>-0.003683</td>\n",
              "      <td>-0.003572</td>\n",
              "      <td>1.000000</td>\n",
              "      <td>-0.000890</td>\n",
              "      <td>-0.001542</td>\n",
              "    </tr>\n",
              "    <tr>\n",
              "      <th>X384</th>\n",
              "      <td>-0.015355</td>\n",
              "      <td>-0.004591</td>\n",
              "      <td>-0.002532</td>\n",
              "      <td>NaN</td>\n",
              "      <td>-0.006212</td>\n",
              "      <td>0.041242</td>\n",
              "      <td>0.025199</td>\n",
              "      <td>-0.000475</td>\n",
              "      <td>-0.001116</td>\n",
              "      <td>-0.001908</td>\n",
              "      <td>...</td>\n",
              "      <td>-0.014917</td>\n",
              "      <td>-0.005373</td>\n",
              "      <td>0.008694</td>\n",
              "      <td>-0.003168</td>\n",
              "      <td>-0.002136</td>\n",
              "      <td>-0.001968</td>\n",
              "      <td>-0.001908</td>\n",
              "      <td>-0.000890</td>\n",
              "      <td>1.000000</td>\n",
              "      <td>-0.000824</td>\n",
              "    </tr>\n",
              "    <tr>\n",
              "      <th>X385</th>\n",
              "      <td>0.029059</td>\n",
              "      <td>-0.022280</td>\n",
              "      <td>-0.004387</td>\n",
              "      <td>NaN</td>\n",
              "      <td>-0.010765</td>\n",
              "      <td>-0.009373</td>\n",
              "      <td>0.043667</td>\n",
              "      <td>-0.000824</td>\n",
              "      <td>-0.001934</td>\n",
              "      <td>-0.003307</td>\n",
              "      <td>...</td>\n",
              "      <td>0.055225</td>\n",
              "      <td>-0.009311</td>\n",
              "      <td>-0.025610</td>\n",
              "      <td>-0.005489</td>\n",
              "      <td>-0.003701</td>\n",
              "      <td>-0.003410</td>\n",
              "      <td>-0.003307</td>\n",
              "      <td>-0.001542</td>\n",
              "      <td>-0.000824</td>\n",
              "      <td>1.000000</td>\n",
              "    </tr>\n",
              "  </tbody>\n",
              "</table>\n",
              "<p>370 rows × 370 columns</p>\n",
              "</div>"
            ],
            "text/plain": [
              "            ID         y       X10  X11       X12       X13       X14  \\\n",
              "ID    1.000000 -0.055108  0.001602  NaN  0.058988 -0.031917 -0.025438   \n",
              "y    -0.055108  1.000000 -0.026985  NaN  0.089792  0.048276  0.193643   \n",
              "X10   0.001602 -0.026985  1.000000  NaN -0.033084 -0.028806 -0.100474   \n",
              "X11        NaN       NaN       NaN  NaN       NaN       NaN       NaN   \n",
              "X12   0.058988  0.089792 -0.033084  NaN  1.000000  0.214825 -0.246513   \n",
              "...        ...       ...       ...  ...       ...       ...       ...   \n",
              "X380 -0.013577  0.040932 -0.010479  NaN -0.005566  0.023045  0.007743   \n",
              "X382 -0.038171 -0.159815 -0.010164  NaN -0.024937 -0.021713  0.012713   \n",
              "X383 -0.009332  0.040291 -0.004740  NaN -0.011628 -0.010125  0.023604   \n",
              "X384 -0.015355 -0.004591 -0.002532  NaN -0.006212  0.041242  0.025199   \n",
              "X385  0.029059 -0.022280 -0.004387  NaN -0.010765 -0.009373  0.043667   \n",
              "\n",
              "           X15       X16       X17  ...      X375      X376      X377  \\\n",
              "ID    0.002237 -0.036480 -0.038171  ...  0.045229 -0.080259 -0.022965   \n",
              "y     0.023116  0.048946 -0.159815  ...  0.029100  0.114005  0.061403   \n",
              "X10  -0.002532 -0.005944 -0.010164  ...  0.165277 -0.028618 -0.074244   \n",
              "X11        NaN       NaN       NaN  ...       NaN       NaN       NaN   \n",
              "X12  -0.006212 -0.014584 -0.024937  ... -0.107864 -0.070214  0.030134   \n",
              "...        ...       ...       ...  ...       ...       ...       ...   \n",
              "X380 -0.001968 -0.004619 -0.007899  ... -0.061741 -0.022240 -0.061168   \n",
              "X382 -0.001908 -0.004480  1.000000  ... -0.059883 -0.021571 -0.059327   \n",
              "X383 -0.000890 -0.002089 -0.003572  ... -0.015413 -0.010059  0.035107   \n",
              "X384 -0.000475 -0.001116 -0.001908  ... -0.014917 -0.005373  0.008694   \n",
              "X385 -0.000824 -0.001934 -0.003307  ...  0.055225 -0.009311 -0.025610   \n",
              "\n",
              "          X378      X379      X380      X382      X383      X384      X385  \n",
              "ID    0.030371  0.023382 -0.013577 -0.038171 -0.009332 -0.015355  0.029059  \n",
              "y    -0.258679  0.067919  0.040932 -0.159815  0.040291 -0.004591 -0.022280  \n",
              "X10  -0.016870 -0.011374 -0.010479 -0.010164 -0.004740 -0.002532 -0.004387  \n",
              "X11        NaN       NaN       NaN       NaN       NaN       NaN       NaN  \n",
              "X12  -0.016043 -0.027907 -0.005566 -0.024937 -0.011628 -0.006212 -0.010765  \n",
              "...        ...       ...       ...       ...       ...       ...       ...  \n",
              "X380 -0.013110 -0.008839  1.000000 -0.007899 -0.003683 -0.001968 -0.003410  \n",
              "X382 -0.012716 -0.008573 -0.007899  1.000000 -0.003572 -0.001908 -0.003307  \n",
              "X383 -0.005930 -0.003998 -0.003683 -0.003572  1.000000 -0.000890 -0.001542  \n",
              "X384 -0.003168 -0.002136 -0.001968 -0.001908 -0.000890  1.000000 -0.000824  \n",
              "X385 -0.005489 -0.003701 -0.003410 -0.003307 -0.001542 -0.000824  1.000000  \n",
              "\n",
              "[370 rows x 370 columns]"
            ]
          },
          "metadata": {},
          "execution_count": 189
        }
      ],
      "metadata": {
        "id": "mmnMMmxbKAEY",
        "outputId": "057efe84-1b89-4785-e3b7-de2bd0b06a57"
      }
    },
    {
      "cell_type": "code",
      "execution_count": null,
      "source": [
        "df['X11'].value_counts()"
      ],
      "outputs": [
        {
          "output_type": "execute_result",
          "data": {
            "text/plain": [
              "0    4209\n",
              "Name: X11, dtype: int64"
            ]
          },
          "metadata": {},
          "execution_count": 190
        }
      ],
      "metadata": {
        "id": "ypBqsp9mKAEZ",
        "outputId": "6893b51d-4c8d-4884-95ab-5b994caeef97"
      }
    },
    {
      "cell_type": "code",
      "execution_count": null,
      "source": [
        "import numpy as np"
      ],
      "outputs": [],
      "metadata": {
        "id": "j_gBHojDKAEZ"
      }
    },
    {
      "cell_type": "code",
      "execution_count": null,
      "source": [
        "lst_data=[[1,2,3],[3,4,np.nan],[5,6,np.nan],[np.nan,np.nan,np.nan]]\r\n",
        "lst_data"
      ],
      "outputs": [
        {
          "output_type": "execute_result",
          "data": {
            "text/plain": [
              "[[1, 2, 3], [3, 4, nan], [5, 6, nan], [nan, nan, nan]]"
            ]
          },
          "metadata": {},
          "execution_count": 193
        }
      ],
      "metadata": {
        "id": "P23-DyMgKAEZ",
        "outputId": "116f9f6a-4bd8-46c4-922b-4442b7d9352a"
      }
    },
    {
      "cell_type": "code",
      "execution_count": null,
      "source": [
        "df=pd.DataFrame(lst_data)"
      ],
      "outputs": [],
      "metadata": {
        "id": "aZfMgxH2KAEZ"
      }
    },
    {
      "cell_type": "code",
      "execution_count": null,
      "source": [
        "df.head()"
      ],
      "outputs": [
        {
          "output_type": "execute_result",
          "data": {
            "text/html": [
              "<div>\n",
              "<style scoped>\n",
              "    .dataframe tbody tr th:only-of-type {\n",
              "        vertical-align: middle;\n",
              "    }\n",
              "\n",
              "    .dataframe tbody tr th {\n",
              "        vertical-align: top;\n",
              "    }\n",
              "\n",
              "    .dataframe thead th {\n",
              "        text-align: right;\n",
              "    }\n",
              "</style>\n",
              "<table border=\"1\" class=\"dataframe\">\n",
              "  <thead>\n",
              "    <tr style=\"text-align: right;\">\n",
              "      <th></th>\n",
              "      <th>0</th>\n",
              "      <th>1</th>\n",
              "      <th>2</th>\n",
              "    </tr>\n",
              "  </thead>\n",
              "  <tbody>\n",
              "    <tr>\n",
              "      <th>0</th>\n",
              "      <td>1.0</td>\n",
              "      <td>2.0</td>\n",
              "      <td>3.0</td>\n",
              "    </tr>\n",
              "    <tr>\n",
              "      <th>1</th>\n",
              "      <td>3.0</td>\n",
              "      <td>4.0</td>\n",
              "      <td>NaN</td>\n",
              "    </tr>\n",
              "    <tr>\n",
              "      <th>2</th>\n",
              "      <td>5.0</td>\n",
              "      <td>6.0</td>\n",
              "      <td>NaN</td>\n",
              "    </tr>\n",
              "    <tr>\n",
              "      <th>3</th>\n",
              "      <td>NaN</td>\n",
              "      <td>NaN</td>\n",
              "      <td>NaN</td>\n",
              "    </tr>\n",
              "  </tbody>\n",
              "</table>\n",
              "</div>"
            ],
            "text/plain": [
              "     0    1    2\n",
              "0  1.0  2.0  3.0\n",
              "1  3.0  4.0  NaN\n",
              "2  5.0  6.0  NaN\n",
              "3  NaN  NaN  NaN"
            ]
          },
          "metadata": {},
          "execution_count": 195
        }
      ],
      "metadata": {
        "id": "v72IM0gZKAEa",
        "outputId": "c92df303-0955-41ef-9644-5021acd36e1e"
      }
    },
    {
      "cell_type": "code",
      "execution_count": null,
      "source": [
        "## HAndling Missing Values\r\n",
        "\r\n",
        "##Drop nan values\r\n",
        "\r\n",
        "df.dropna(axis=0)"
      ],
      "outputs": [
        {
          "output_type": "execute_result",
          "data": {
            "text/html": [
              "<div>\n",
              "<style scoped>\n",
              "    .dataframe tbody tr th:only-of-type {\n",
              "        vertical-align: middle;\n",
              "    }\n",
              "\n",
              "    .dataframe tbody tr th {\n",
              "        vertical-align: top;\n",
              "    }\n",
              "\n",
              "    .dataframe thead th {\n",
              "        text-align: right;\n",
              "    }\n",
              "</style>\n",
              "<table border=\"1\" class=\"dataframe\">\n",
              "  <thead>\n",
              "    <tr style=\"text-align: right;\">\n",
              "      <th></th>\n",
              "      <th>0</th>\n",
              "      <th>1</th>\n",
              "      <th>2</th>\n",
              "    </tr>\n",
              "  </thead>\n",
              "  <tbody>\n",
              "    <tr>\n",
              "      <th>0</th>\n",
              "      <td>1.0</td>\n",
              "      <td>2.0</td>\n",
              "      <td>3.0</td>\n",
              "    </tr>\n",
              "  </tbody>\n",
              "</table>\n",
              "</div>"
            ],
            "text/plain": [
              "     0    1    2\n",
              "0  1.0  2.0  3.0"
            ]
          },
          "metadata": {},
          "execution_count": 196
        }
      ],
      "metadata": {
        "id": "lo0HpvWUKAEa",
        "outputId": "4ccd5900-15fc-49b0-dd7f-6c847a9cf734"
      }
    },
    {
      "cell_type": "code",
      "execution_count": null,
      "source": [
        "df.dropna(axis=1)"
      ],
      "outputs": [
        {
          "output_type": "execute_result",
          "data": {
            "text/html": [
              "<div>\n",
              "<style scoped>\n",
              "    .dataframe tbody tr th:only-of-type {\n",
              "        vertical-align: middle;\n",
              "    }\n",
              "\n",
              "    .dataframe tbody tr th {\n",
              "        vertical-align: top;\n",
              "    }\n",
              "\n",
              "    .dataframe thead th {\n",
              "        text-align: right;\n",
              "    }\n",
              "</style>\n",
              "<table border=\"1\" class=\"dataframe\">\n",
              "  <thead>\n",
              "    <tr style=\"text-align: right;\">\n",
              "      <th></th>\n",
              "    </tr>\n",
              "  </thead>\n",
              "  <tbody>\n",
              "    <tr>\n",
              "      <th>0</th>\n",
              "    </tr>\n",
              "    <tr>\n",
              "      <th>1</th>\n",
              "    </tr>\n",
              "    <tr>\n",
              "      <th>2</th>\n",
              "    </tr>\n",
              "    <tr>\n",
              "      <th>3</th>\n",
              "    </tr>\n",
              "  </tbody>\n",
              "</table>\n",
              "</div>"
            ],
            "text/plain": [
              "Empty DataFrame\n",
              "Columns: []\n",
              "Index: [0, 1, 2, 3]"
            ]
          },
          "metadata": {},
          "execution_count": 105
        }
      ],
      "metadata": {
        "id": "JvHiVtrgKAEa",
        "outputId": "fdd0b775-de9a-4c8d-83d1-a8f217bd567a"
      }
    },
    {
      "cell_type": "code",
      "execution_count": null,
      "source": [],
      "outputs": [],
      "metadata": {
        "id": "SIvIhgJWKAEa"
      }
    },
    {
      "cell_type": "code",
      "execution_count": null,
      "source": [
        "df = pd.DataFrame(np.random.randn(5, 3), index=['a', 'c', 'e', 'f', 'h'],\r\n",
        "                     columns=['one', 'two', 'three'])"
      ],
      "outputs": [],
      "metadata": {
        "id": "jP8P0AKeKAEa"
      }
    },
    {
      "cell_type": "code",
      "execution_count": null,
      "source": [
        "df.head()"
      ],
      "outputs": [
        {
          "output_type": "execute_result",
          "data": {
            "text/html": [
              "<div>\n",
              "<style scoped>\n",
              "    .dataframe tbody tr th:only-of-type {\n",
              "        vertical-align: middle;\n",
              "    }\n",
              "\n",
              "    .dataframe tbody tr th {\n",
              "        vertical-align: top;\n",
              "    }\n",
              "\n",
              "    .dataframe thead th {\n",
              "        text-align: right;\n",
              "    }\n",
              "</style>\n",
              "<table border=\"1\" class=\"dataframe\">\n",
              "  <thead>\n",
              "    <tr style=\"text-align: right;\">\n",
              "      <th></th>\n",
              "      <th>one</th>\n",
              "      <th>two</th>\n",
              "      <th>three</th>\n",
              "    </tr>\n",
              "  </thead>\n",
              "  <tbody>\n",
              "    <tr>\n",
              "      <th>a</th>\n",
              "      <td>-1.916735</td>\n",
              "      <td>-0.173240</td>\n",
              "      <td>1.367206</td>\n",
              "    </tr>\n",
              "    <tr>\n",
              "      <th>c</th>\n",
              "      <td>1.312738</td>\n",
              "      <td>-2.141986</td>\n",
              "      <td>0.542119</td>\n",
              "    </tr>\n",
              "    <tr>\n",
              "      <th>e</th>\n",
              "      <td>0.892091</td>\n",
              "      <td>-0.122928</td>\n",
              "      <td>-0.676124</td>\n",
              "    </tr>\n",
              "    <tr>\n",
              "      <th>f</th>\n",
              "      <td>-0.448301</td>\n",
              "      <td>0.017504</td>\n",
              "      <td>-0.153914</td>\n",
              "    </tr>\n",
              "    <tr>\n",
              "      <th>h</th>\n",
              "      <td>0.150060</td>\n",
              "      <td>-0.020558</td>\n",
              "      <td>1.374107</td>\n",
              "    </tr>\n",
              "  </tbody>\n",
              "</table>\n",
              "</div>"
            ],
            "text/plain": [
              "        one       two     three\n",
              "a -1.916735 -0.173240  1.367206\n",
              "c  1.312738 -2.141986  0.542119\n",
              "e  0.892091 -0.122928 -0.676124\n",
              "f -0.448301  0.017504 -0.153914\n",
              "h  0.150060 -0.020558  1.374107"
            ]
          },
          "metadata": {},
          "execution_count": 107
        }
      ],
      "metadata": {
        "id": "eRO_zlHOKAEb",
        "outputId": "8501ff4e-722b-453c-e24e-4b9524ccff8e"
      }
    },
    {
      "cell_type": "code",
      "execution_count": null,
      "source": [
        "df2=df.reindex(['a', 'b', 'c', 'd', 'e', 'f', 'g', 'h'])"
      ],
      "outputs": [],
      "metadata": {
        "id": "jUVilQPhKAEb"
      }
    },
    {
      "cell_type": "code",
      "execution_count": null,
      "source": [
        "df2"
      ],
      "outputs": [
        {
          "output_type": "execute_result",
          "data": {
            "text/html": [
              "<div>\n",
              "<style scoped>\n",
              "    .dataframe tbody tr th:only-of-type {\n",
              "        vertical-align: middle;\n",
              "    }\n",
              "\n",
              "    .dataframe tbody tr th {\n",
              "        vertical-align: top;\n",
              "    }\n",
              "\n",
              "    .dataframe thead th {\n",
              "        text-align: right;\n",
              "    }\n",
              "</style>\n",
              "<table border=\"1\" class=\"dataframe\">\n",
              "  <thead>\n",
              "    <tr style=\"text-align: right;\">\n",
              "      <th></th>\n",
              "      <th>one</th>\n",
              "      <th>two</th>\n",
              "      <th>three</th>\n",
              "    </tr>\n",
              "  </thead>\n",
              "  <tbody>\n",
              "    <tr>\n",
              "      <th>a</th>\n",
              "      <td>-1.916735</td>\n",
              "      <td>-0.173240</td>\n",
              "      <td>1.367206</td>\n",
              "    </tr>\n",
              "    <tr>\n",
              "      <th>b</th>\n",
              "      <td>NaN</td>\n",
              "      <td>NaN</td>\n",
              "      <td>NaN</td>\n",
              "    </tr>\n",
              "    <tr>\n",
              "      <th>c</th>\n",
              "      <td>1.312738</td>\n",
              "      <td>-2.141986</td>\n",
              "      <td>0.542119</td>\n",
              "    </tr>\n",
              "    <tr>\n",
              "      <th>d</th>\n",
              "      <td>NaN</td>\n",
              "      <td>NaN</td>\n",
              "      <td>NaN</td>\n",
              "    </tr>\n",
              "    <tr>\n",
              "      <th>e</th>\n",
              "      <td>0.892091</td>\n",
              "      <td>-0.122928</td>\n",
              "      <td>-0.676124</td>\n",
              "    </tr>\n",
              "    <tr>\n",
              "      <th>f</th>\n",
              "      <td>-0.448301</td>\n",
              "      <td>0.017504</td>\n",
              "      <td>-0.153914</td>\n",
              "    </tr>\n",
              "    <tr>\n",
              "      <th>g</th>\n",
              "      <td>NaN</td>\n",
              "      <td>NaN</td>\n",
              "      <td>NaN</td>\n",
              "    </tr>\n",
              "    <tr>\n",
              "      <th>h</th>\n",
              "      <td>0.150060</td>\n",
              "      <td>-0.020558</td>\n",
              "      <td>1.374107</td>\n",
              "    </tr>\n",
              "  </tbody>\n",
              "</table>\n",
              "</div>"
            ],
            "text/plain": [
              "        one       two     three\n",
              "a -1.916735 -0.173240  1.367206\n",
              "b       NaN       NaN       NaN\n",
              "c  1.312738 -2.141986  0.542119\n",
              "d       NaN       NaN       NaN\n",
              "e  0.892091 -0.122928 -0.676124\n",
              "f -0.448301  0.017504 -0.153914\n",
              "g       NaN       NaN       NaN\n",
              "h  0.150060 -0.020558  1.374107"
            ]
          },
          "metadata": {},
          "execution_count": 109
        }
      ],
      "metadata": {
        "id": "CJVzFgReKAEb",
        "outputId": "ef041490-bb7a-4d61-d60f-47b7ad99c009"
      }
    },
    {
      "cell_type": "code",
      "execution_count": null,
      "source": [
        "df2.dropna(axis=0)"
      ],
      "outputs": [
        {
          "output_type": "execute_result",
          "data": {
            "text/html": [
              "<div>\n",
              "<style scoped>\n",
              "    .dataframe tbody tr th:only-of-type {\n",
              "        vertical-align: middle;\n",
              "    }\n",
              "\n",
              "    .dataframe tbody tr th {\n",
              "        vertical-align: top;\n",
              "    }\n",
              "\n",
              "    .dataframe thead th {\n",
              "        text-align: right;\n",
              "    }\n",
              "</style>\n",
              "<table border=\"1\" class=\"dataframe\">\n",
              "  <thead>\n",
              "    <tr style=\"text-align: right;\">\n",
              "      <th></th>\n",
              "      <th>one</th>\n",
              "      <th>two</th>\n",
              "      <th>three</th>\n",
              "    </tr>\n",
              "  </thead>\n",
              "  <tbody>\n",
              "    <tr>\n",
              "      <th>a</th>\n",
              "      <td>-1.916735</td>\n",
              "      <td>-0.173240</td>\n",
              "      <td>1.367206</td>\n",
              "    </tr>\n",
              "    <tr>\n",
              "      <th>c</th>\n",
              "      <td>1.312738</td>\n",
              "      <td>-2.141986</td>\n",
              "      <td>0.542119</td>\n",
              "    </tr>\n",
              "    <tr>\n",
              "      <th>e</th>\n",
              "      <td>0.892091</td>\n",
              "      <td>-0.122928</td>\n",
              "      <td>-0.676124</td>\n",
              "    </tr>\n",
              "    <tr>\n",
              "      <th>f</th>\n",
              "      <td>-0.448301</td>\n",
              "      <td>0.017504</td>\n",
              "      <td>-0.153914</td>\n",
              "    </tr>\n",
              "    <tr>\n",
              "      <th>h</th>\n",
              "      <td>0.150060</td>\n",
              "      <td>-0.020558</td>\n",
              "      <td>1.374107</td>\n",
              "    </tr>\n",
              "  </tbody>\n",
              "</table>\n",
              "</div>"
            ],
            "text/plain": [
              "        one       two     three\n",
              "a -1.916735 -0.173240  1.367206\n",
              "c  1.312738 -2.141986  0.542119\n",
              "e  0.892091 -0.122928 -0.676124\n",
              "f -0.448301  0.017504 -0.153914\n",
              "h  0.150060 -0.020558  1.374107"
            ]
          },
          "metadata": {},
          "execution_count": 110
        }
      ],
      "metadata": {
        "id": "KiPNHQSjKAEb",
        "outputId": "a656c3a7-e1ea-4176-90f4-32cab25b9e4f"
      }
    },
    {
      "cell_type": "code",
      "execution_count": null,
      "source": [
        "pd.isna(df2['one'])"
      ],
      "outputs": [
        {
          "output_type": "execute_result",
          "data": {
            "text/plain": [
              "a    False\n",
              "b     True\n",
              "c    False\n",
              "d     True\n",
              "e    False\n",
              "f    False\n",
              "g     True\n",
              "h    False\n",
              "Name: one, dtype: bool"
            ]
          },
          "metadata": {},
          "execution_count": 111
        }
      ],
      "metadata": {
        "id": "K__ZFNrmKAEb",
        "outputId": "060823af-9d20-4bad-8b63-8b75220b70dd"
      }
    },
    {
      "cell_type": "code",
      "execution_count": null,
      "source": [
        "df2['one'].notna()"
      ],
      "outputs": [
        {
          "output_type": "execute_result",
          "data": {
            "text/plain": [
              "a     True\n",
              "b    False\n",
              "c     True\n",
              "d    False\n",
              "e     True\n",
              "f     True\n",
              "g    False\n",
              "h     True\n",
              "Name: one, dtype: bool"
            ]
          },
          "metadata": {},
          "execution_count": 112
        }
      ],
      "metadata": {
        "id": "WmzjaPljKAEb",
        "outputId": "86a2cdf3-dcb3-44a0-c1c5-39c393caa262"
      }
    },
    {
      "cell_type": "code",
      "execution_count": null,
      "source": [
        "df2.fillna('Missing')"
      ],
      "outputs": [
        {
          "output_type": "execute_result",
          "data": {
            "text/html": [
              "<div>\n",
              "<style scoped>\n",
              "    .dataframe tbody tr th:only-of-type {\n",
              "        vertical-align: middle;\n",
              "    }\n",
              "\n",
              "    .dataframe tbody tr th {\n",
              "        vertical-align: top;\n",
              "    }\n",
              "\n",
              "    .dataframe thead th {\n",
              "        text-align: right;\n",
              "    }\n",
              "</style>\n",
              "<table border=\"1\" class=\"dataframe\">\n",
              "  <thead>\n",
              "    <tr style=\"text-align: right;\">\n",
              "      <th></th>\n",
              "      <th>one</th>\n",
              "      <th>two</th>\n",
              "      <th>three</th>\n",
              "    </tr>\n",
              "  </thead>\n",
              "  <tbody>\n",
              "    <tr>\n",
              "      <th>a</th>\n",
              "      <td>-1.91674</td>\n",
              "      <td>-0.17324</td>\n",
              "      <td>1.36721</td>\n",
              "    </tr>\n",
              "    <tr>\n",
              "      <th>b</th>\n",
              "      <td>Missing</td>\n",
              "      <td>Missing</td>\n",
              "      <td>Missing</td>\n",
              "    </tr>\n",
              "    <tr>\n",
              "      <th>c</th>\n",
              "      <td>1.31274</td>\n",
              "      <td>-2.14199</td>\n",
              "      <td>0.542119</td>\n",
              "    </tr>\n",
              "    <tr>\n",
              "      <th>d</th>\n",
              "      <td>Missing</td>\n",
              "      <td>Missing</td>\n",
              "      <td>Missing</td>\n",
              "    </tr>\n",
              "    <tr>\n",
              "      <th>e</th>\n",
              "      <td>0.892091</td>\n",
              "      <td>-0.122928</td>\n",
              "      <td>-0.676124</td>\n",
              "    </tr>\n",
              "    <tr>\n",
              "      <th>f</th>\n",
              "      <td>-0.448301</td>\n",
              "      <td>0.0175044</td>\n",
              "      <td>-0.153914</td>\n",
              "    </tr>\n",
              "    <tr>\n",
              "      <th>g</th>\n",
              "      <td>Missing</td>\n",
              "      <td>Missing</td>\n",
              "      <td>Missing</td>\n",
              "    </tr>\n",
              "    <tr>\n",
              "      <th>h</th>\n",
              "      <td>0.15006</td>\n",
              "      <td>-0.0205578</td>\n",
              "      <td>1.37411</td>\n",
              "    </tr>\n",
              "  </tbody>\n",
              "</table>\n",
              "</div>"
            ],
            "text/plain": [
              "        one        two     three\n",
              "a  -1.91674   -0.17324   1.36721\n",
              "b   Missing    Missing   Missing\n",
              "c   1.31274   -2.14199  0.542119\n",
              "d   Missing    Missing   Missing\n",
              "e  0.892091  -0.122928 -0.676124\n",
              "f -0.448301  0.0175044 -0.153914\n",
              "g   Missing    Missing   Missing\n",
              "h   0.15006 -0.0205578   1.37411"
            ]
          },
          "metadata": {},
          "execution_count": 113
        }
      ],
      "metadata": {
        "id": "61H_2cy5KAEb",
        "outputId": "71cc57d8-67d8-4eff-84a7-e26f1388d57c"
      }
    },
    {
      "cell_type": "code",
      "execution_count": null,
      "source": [
        "df2['one'].values"
      ],
      "outputs": [
        {
          "output_type": "execute_result",
          "data": {
            "text/plain": [
              "array([-1.91673531,         nan,  1.31273752,         nan,  0.89209108,\n",
              "       -0.44830066,         nan,  0.15006008])"
            ]
          },
          "metadata": {},
          "execution_count": 114
        }
      ],
      "metadata": {
        "id": "h733PONtKAEc",
        "outputId": "aedec761-4c77-4d70-e87a-fb740aece9f2"
      }
    },
    {
      "cell_type": "code",
      "execution_count": null,
      "source": [
        "### Reading different data sources with the help of pandas"
      ],
      "outputs": [],
      "metadata": {
        "id": "_VLAboJCKAEc"
      }
    },
    {
      "cell_type": "markdown",
      "source": [
        "## CSV"
      ],
      "metadata": {
        "id": "AzlPir5fKAEc"
      }
    },
    {
      "cell_type": "code",
      "execution_count": null,
      "source": [
        "from io import StringIO, BytesIO"
      ],
      "outputs": [],
      "metadata": {
        "id": "CqiUf1ZPKAEc"
      }
    },
    {
      "cell_type": "code",
      "execution_count": null,
      "source": [
        "data = ('col1,col2,col3\\n'\r\n",
        "            'x,y,1\\n'\r\n",
        "            'a,b,2\\n'\r\n",
        "            'c,d,3')\r\n",
        "data"
      ],
      "outputs": [
        {
          "output_type": "execute_result",
          "data": {
            "text/plain": [
              "'col1,col2,col3\\nx,y,1\\na,b,2\\nc,d,3'"
            ]
          },
          "metadata": {},
          "execution_count": 219
        }
      ],
      "metadata": {
        "id": "8AKwHP0jKAEc",
        "outputId": "6451560c-6e67-4af1-e7af-0bda5f768a55"
      }
    },
    {
      "cell_type": "code",
      "execution_count": null,
      "source": [
        "type(data)"
      ],
      "outputs": [
        {
          "output_type": "execute_result",
          "data": {
            "text/plain": [
              "str"
            ]
          },
          "metadata": {},
          "execution_count": 220
        }
      ],
      "metadata": {
        "id": "JIIbD67rKAEc",
        "outputId": "389df895-3a83-49d2-8765-1083b110658a"
      }
    },
    {
      "cell_type": "code",
      "execution_count": null,
      "source": [
        "StringIO()"
      ],
      "outputs": [],
      "metadata": {
        "id": "pTD2_t3pKAEc"
      }
    },
    {
      "cell_type": "code",
      "execution_count": null,
      "source": [
        "pd.read_csv(StringIO(data))"
      ],
      "outputs": [
        {
          "output_type": "execute_result",
          "data": {
            "text/html": [
              "<div>\n",
              "<style scoped>\n",
              "    .dataframe tbody tr th:only-of-type {\n",
              "        vertical-align: middle;\n",
              "    }\n",
              "\n",
              "    .dataframe tbody tr th {\n",
              "        vertical-align: top;\n",
              "    }\n",
              "\n",
              "    .dataframe thead th {\n",
              "        text-align: right;\n",
              "    }\n",
              "</style>\n",
              "<table border=\"1\" class=\"dataframe\">\n",
              "  <thead>\n",
              "    <tr style=\"text-align: right;\">\n",
              "      <th></th>\n",
              "      <th>col1</th>\n",
              "      <th>col2</th>\n",
              "      <th>col3</th>\n",
              "    </tr>\n",
              "  </thead>\n",
              "  <tbody>\n",
              "    <tr>\n",
              "      <th>0</th>\n",
              "      <td>x</td>\n",
              "      <td>y</td>\n",
              "      <td>1</td>\n",
              "    </tr>\n",
              "    <tr>\n",
              "      <th>1</th>\n",
              "      <td>a</td>\n",
              "      <td>b</td>\n",
              "      <td>2</td>\n",
              "    </tr>\n",
              "    <tr>\n",
              "      <th>2</th>\n",
              "      <td>c</td>\n",
              "      <td>d</td>\n",
              "      <td>3</td>\n",
              "    </tr>\n",
              "  </tbody>\n",
              "</table>\n",
              "</div>"
            ],
            "text/plain": [
              "  col1 col2  col3\n",
              "0    x    y     1\n",
              "1    a    b     2\n",
              "2    c    d     3"
            ]
          },
          "metadata": {},
          "execution_count": 222
        }
      ],
      "metadata": {
        "id": "iEAE6lbOKAEc",
        "outputId": "1555f56d-b59b-495b-c22c-68222b9780a5"
      }
    },
    {
      "cell_type": "code",
      "execution_count": null,
      "source": [
        "df=pd.read_csv(StringIO(data), usecols=['col1', 'col3'])\r\n",
        "df"
      ],
      "outputs": [
        {
          "output_type": "execute_result",
          "data": {
            "text/html": [
              "<div>\n",
              "<style scoped>\n",
              "    .dataframe tbody tr th:only-of-type {\n",
              "        vertical-align: middle;\n",
              "    }\n",
              "\n",
              "    .dataframe tbody tr th {\n",
              "        vertical-align: top;\n",
              "    }\n",
              "\n",
              "    .dataframe thead th {\n",
              "        text-align: right;\n",
              "    }\n",
              "</style>\n",
              "<table border=\"1\" class=\"dataframe\">\n",
              "  <thead>\n",
              "    <tr style=\"text-align: right;\">\n",
              "      <th></th>\n",
              "      <th>col1</th>\n",
              "      <th>col3</th>\n",
              "    </tr>\n",
              "  </thead>\n",
              "  <tbody>\n",
              "    <tr>\n",
              "      <th>0</th>\n",
              "      <td>x</td>\n",
              "      <td>1</td>\n",
              "    </tr>\n",
              "    <tr>\n",
              "      <th>1</th>\n",
              "      <td>a</td>\n",
              "      <td>2</td>\n",
              "    </tr>\n",
              "    <tr>\n",
              "      <th>2</th>\n",
              "      <td>c</td>\n",
              "      <td>3</td>\n",
              "    </tr>\n",
              "  </tbody>\n",
              "</table>\n",
              "</div>"
            ],
            "text/plain": [
              "  col1  col3\n",
              "0    x     1\n",
              "1    a     2\n",
              "2    c     3"
            ]
          },
          "metadata": {},
          "execution_count": 224
        }
      ],
      "metadata": {
        "id": "twDvN_WLKAEd",
        "outputId": "8336e3a6-8afb-4427-958f-6cf707ac487b"
      }
    },
    {
      "cell_type": "code",
      "execution_count": null,
      "source": [
        "## Read from specific columns\r\n",
        "df=pd.read_csv(StringIO(data), usecols=lambda x: x.upper() in ['COL1', 'COL3'])"
      ],
      "outputs": [],
      "metadata": {
        "id": "F6-owe52KAEd"
      }
    },
    {
      "cell_type": "code",
      "execution_count": null,
      "source": [
        "df.to_csv('Test.csv')"
      ],
      "outputs": [],
      "metadata": {
        "id": "zQFuMKaZKAEd"
      }
    },
    {
      "cell_type": "code",
      "execution_count": null,
      "source": [
        "## Specifying columns data types\r\n",
        "\r\n",
        "data = ('a,b,c,d\\n'\r\n",
        "            '1,2,3,4\\n'\r\n",
        "            '5,6,7,8\\n'\r\n",
        "            '9,10,11')\r\n"
      ],
      "outputs": [],
      "metadata": {
        "id": "1X2a8vivKAEd"
      }
    },
    {
      "cell_type": "code",
      "execution_count": null,
      "source": [
        "print(data)"
      ],
      "outputs": [
        {
          "output_type": "stream",
          "name": "stdout",
          "text": [
            "a,b,c,d\n",
            "1,2,3,4\n",
            "5,6,7,8\n",
            "9,10,11\n"
          ]
        }
      ],
      "metadata": {
        "id": "TdoA_fopKAEd",
        "outputId": "10b84b5d-8b7b-4170-ee73-3137aff176e3"
      }
    },
    {
      "cell_type": "code",
      "execution_count": null,
      "source": [
        "df=pd.read_csv(StringIO(data),dtype=object)"
      ],
      "outputs": [],
      "metadata": {
        "id": "Hgr9LUuhKAEd"
      }
    },
    {
      "cell_type": "code",
      "execution_count": null,
      "source": [
        "df"
      ],
      "outputs": [
        {
          "output_type": "execute_result",
          "data": {
            "text/html": [
              "<div>\n",
              "<style scoped>\n",
              "    .dataframe tbody tr th:only-of-type {\n",
              "        vertical-align: middle;\n",
              "    }\n",
              "\n",
              "    .dataframe tbody tr th {\n",
              "        vertical-align: top;\n",
              "    }\n",
              "\n",
              "    .dataframe thead th {\n",
              "        text-align: right;\n",
              "    }\n",
              "</style>\n",
              "<table border=\"1\" class=\"dataframe\">\n",
              "  <thead>\n",
              "    <tr style=\"text-align: right;\">\n",
              "      <th></th>\n",
              "      <th>a</th>\n",
              "      <th>b</th>\n",
              "      <th>c</th>\n",
              "      <th>d</th>\n",
              "    </tr>\n",
              "  </thead>\n",
              "  <tbody>\n",
              "    <tr>\n",
              "      <th>0</th>\n",
              "      <td>1</td>\n",
              "      <td>2</td>\n",
              "      <td>3</td>\n",
              "      <td>4</td>\n",
              "    </tr>\n",
              "    <tr>\n",
              "      <th>1</th>\n",
              "      <td>5</td>\n",
              "      <td>6</td>\n",
              "      <td>7</td>\n",
              "      <td>8</td>\n",
              "    </tr>\n",
              "    <tr>\n",
              "      <th>2</th>\n",
              "      <td>9</td>\n",
              "      <td>10</td>\n",
              "      <td>11</td>\n",
              "      <td>NaN</td>\n",
              "    </tr>\n",
              "  </tbody>\n",
              "</table>\n",
              "</div>"
            ],
            "text/plain": [
              "   a   b   c    d\n",
              "0  1   2   3    4\n",
              "1  5   6   7    8\n",
              "2  9  10  11  NaN"
            ]
          },
          "metadata": {},
          "execution_count": 229
        }
      ],
      "metadata": {
        "id": "8wZjHpXiKAEd",
        "outputId": "0780638a-7cc5-432b-ad0f-df77d160b326"
      }
    },
    {
      "cell_type": "code",
      "execution_count": null,
      "source": [
        "df['a'][1]"
      ],
      "outputs": [
        {
          "output_type": "execute_result",
          "data": {
            "text/plain": [
              "'5'"
            ]
          },
          "metadata": {},
          "execution_count": 231
        }
      ],
      "metadata": {
        "id": "qan2kVhpKAEd",
        "outputId": "307bc017-cc8c-42cd-bf93-4d2f84862284"
      }
    },
    {
      "cell_type": "code",
      "execution_count": null,
      "source": [
        "df=pd.read_csv(StringIO(data),dtype={'b':int,'c':np.float,'a':'Int64'})"
      ],
      "outputs": [],
      "metadata": {
        "id": "GWA8Wu0qKAEd"
      }
    },
    {
      "cell_type": "code",
      "execution_count": null,
      "source": [
        "df"
      ],
      "outputs": [
        {
          "output_type": "execute_result",
          "data": {
            "text/html": [
              "<div>\n",
              "<style scoped>\n",
              "    .dataframe tbody tr th:only-of-type {\n",
              "        vertical-align: middle;\n",
              "    }\n",
              "\n",
              "    .dataframe tbody tr th {\n",
              "        vertical-align: top;\n",
              "    }\n",
              "\n",
              "    .dataframe thead th {\n",
              "        text-align: right;\n",
              "    }\n",
              "</style>\n",
              "<table border=\"1\" class=\"dataframe\">\n",
              "  <thead>\n",
              "    <tr style=\"text-align: right;\">\n",
              "      <th></th>\n",
              "      <th>a</th>\n",
              "      <th>b</th>\n",
              "      <th>c</th>\n",
              "      <th>d</th>\n",
              "    </tr>\n",
              "  </thead>\n",
              "  <tbody>\n",
              "    <tr>\n",
              "      <th>0</th>\n",
              "      <td>1</td>\n",
              "      <td>2</td>\n",
              "      <td>3.0</td>\n",
              "      <td>4.0</td>\n",
              "    </tr>\n",
              "    <tr>\n",
              "      <th>1</th>\n",
              "      <td>5</td>\n",
              "      <td>6</td>\n",
              "      <td>7.0</td>\n",
              "      <td>8.0</td>\n",
              "    </tr>\n",
              "    <tr>\n",
              "      <th>2</th>\n",
              "      <td>9</td>\n",
              "      <td>10</td>\n",
              "      <td>11.0</td>\n",
              "      <td>NaN</td>\n",
              "    </tr>\n",
              "  </tbody>\n",
              "</table>\n",
              "</div>"
            ],
            "text/plain": [
              "   a   b     c    d\n",
              "0  1   2   3.0  4.0\n",
              "1  5   6   7.0  8.0\n",
              "2  9  10  11.0  NaN"
            ]
          },
          "metadata": {},
          "execution_count": 233
        }
      ],
      "metadata": {
        "id": "0ftlgpP3KAEe",
        "outputId": "a1f9d48b-5051-4702-fd7f-c2ef7f37f923"
      }
    },
    {
      "cell_type": "code",
      "execution_count": null,
      "source": [
        "df['a'][1]"
      ],
      "outputs": [
        {
          "output_type": "execute_result",
          "data": {
            "text/plain": [
              "5"
            ]
          },
          "metadata": {},
          "execution_count": 129
        }
      ],
      "metadata": {
        "id": "yZ8q53pzKAEe",
        "outputId": "69c1d7ab-979d-400b-8ab7-74423cf9c216"
      }
    },
    {
      "cell_type": "code",
      "execution_count": null,
      "source": [
        "## check the datatype\r\n",
        "df.dtypes"
      ],
      "outputs": [
        {
          "output_type": "execute_result",
          "data": {
            "text/plain": [
              "a      Int64\n",
              "b      int32\n",
              "c    float64\n",
              "d    float64\n",
              "dtype: object"
            ]
          },
          "metadata": {},
          "execution_count": 130
        }
      ],
      "metadata": {
        "id": "a4xwBDKhKAEe",
        "outputId": "0bf6a5c2-d0c1-4e24-d6c7-129bac8174f2"
      }
    },
    {
      "cell_type": "code",
      "execution_count": null,
      "source": [
        "## Index columns and training delimiters\r\n"
      ],
      "outputs": [],
      "metadata": {
        "id": "prGMbGTBKAEe"
      }
    },
    {
      "cell_type": "code",
      "execution_count": null,
      "source": [
        "data = ('index,a,b,c\\n'\r\n",
        "           '4,apple,bat,5.7\\n'\r\n",
        "            '8,orange,cow,10')"
      ],
      "outputs": [],
      "metadata": {
        "id": "nWFAYrg3KAEe"
      }
    },
    {
      "cell_type": "markdown",
      "source": [
        "# Assignment"
      ],
      "metadata": {}
    },
    {
      "cell_type": "code",
      "execution_count": 2,
      "source": [
        "## Assignment - Explore this dataset using pandas...\r\n",
        "\r\n",
        "import pandas as pd\r\n",
        "\r\n",
        "df=pd.read_csv('https://download.bls.gov/pub/time.series/cu/cu.item',\r\n",
        "                 sep='\\t')\r\n",
        "df"
      ],
      "outputs": [
        {
          "output_type": "execute_result",
          "data": {
            "text/html": [
              "<div>\n",
              "<style scoped>\n",
              "    .dataframe tbody tr th:only-of-type {\n",
              "        vertical-align: middle;\n",
              "    }\n",
              "\n",
              "    .dataframe tbody tr th {\n",
              "        vertical-align: top;\n",
              "    }\n",
              "\n",
              "    .dataframe thead th {\n",
              "        text-align: right;\n",
              "    }\n",
              "</style>\n",
              "<table border=\"1\" class=\"dataframe\">\n",
              "  <thead>\n",
              "    <tr style=\"text-align: right;\">\n",
              "      <th></th>\n",
              "      <th>item_code</th>\n",
              "      <th>item_name</th>\n",
              "      <th>display_level</th>\n",
              "      <th>selectable</th>\n",
              "      <th>sort_sequence</th>\n",
              "    </tr>\n",
              "  </thead>\n",
              "  <tbody>\n",
              "    <tr>\n",
              "      <th>0</th>\n",
              "      <td>AA0</td>\n",
              "      <td>All items - old base</td>\n",
              "      <td>0</td>\n",
              "      <td>T</td>\n",
              "      <td>2</td>\n",
              "    </tr>\n",
              "    <tr>\n",
              "      <th>1</th>\n",
              "      <td>AA0R</td>\n",
              "      <td>Purchasing power of the consumer dollar - old ...</td>\n",
              "      <td>0</td>\n",
              "      <td>T</td>\n",
              "      <td>399</td>\n",
              "    </tr>\n",
              "    <tr>\n",
              "      <th>2</th>\n",
              "      <td>SA0</td>\n",
              "      <td>All items</td>\n",
              "      <td>0</td>\n",
              "      <td>T</td>\n",
              "      <td>1</td>\n",
              "    </tr>\n",
              "    <tr>\n",
              "      <th>3</th>\n",
              "      <td>SA0E</td>\n",
              "      <td>Energy</td>\n",
              "      <td>1</td>\n",
              "      <td>T</td>\n",
              "      <td>374</td>\n",
              "    </tr>\n",
              "    <tr>\n",
              "      <th>4</th>\n",
              "      <td>SA0L1</td>\n",
              "      <td>All items less food</td>\n",
              "      <td>1</td>\n",
              "      <td>T</td>\n",
              "      <td>358</td>\n",
              "    </tr>\n",
              "    <tr>\n",
              "      <th>...</th>\n",
              "      <td>...</td>\n",
              "      <td>...</td>\n",
              "      <td>...</td>\n",
              "      <td>...</td>\n",
              "      <td>...</td>\n",
              "    </tr>\n",
              "    <tr>\n",
              "      <th>394</th>\n",
              "      <td>SS68023</td>\n",
              "      <td>Tax return preparation and other accounting fees</td>\n",
              "      <td>4</td>\n",
              "      <td>T</td>\n",
              "      <td>352</td>\n",
              "    </tr>\n",
              "    <tr>\n",
              "      <th>395</th>\n",
              "      <td>SSEA011</td>\n",
              "      <td>College textbooks</td>\n",
              "      <td>3</td>\n",
              "      <td>T</td>\n",
              "      <td>314</td>\n",
              "    </tr>\n",
              "    <tr>\n",
              "      <th>396</th>\n",
              "      <td>SSFV031A</td>\n",
              "      <td>Food at elementary and secondary schools</td>\n",
              "      <td>3</td>\n",
              "      <td>T</td>\n",
              "      <td>122</td>\n",
              "    </tr>\n",
              "    <tr>\n",
              "      <th>397</th>\n",
              "      <td>SSGE013</td>\n",
              "      <td>Infants' equipment</td>\n",
              "      <td>3</td>\n",
              "      <td>T</td>\n",
              "      <td>355</td>\n",
              "    </tr>\n",
              "    <tr>\n",
              "      <th>398</th>\n",
              "      <td>SSHJ031</td>\n",
              "      <td>Infants' furniture</td>\n",
              "      <td>3</td>\n",
              "      <td>T</td>\n",
              "      <td>165</td>\n",
              "    </tr>\n",
              "  </tbody>\n",
              "</table>\n",
              "<p>399 rows × 5 columns</p>\n",
              "</div>"
            ],
            "text/plain": [
              "    item_code                                          item_name  \\\n",
              "0         AA0                               All items - old base   \n",
              "1        AA0R  Purchasing power of the consumer dollar - old ...   \n",
              "2         SA0                                          All items   \n",
              "3        SA0E                                             Energy   \n",
              "4       SA0L1                                All items less food   \n",
              "..        ...                                                ...   \n",
              "394   SS68023   Tax return preparation and other accounting fees   \n",
              "395   SSEA011                                  College textbooks   \n",
              "396  SSFV031A           Food at elementary and secondary schools   \n",
              "397   SSGE013                                 Infants' equipment   \n",
              "398   SSHJ031                                 Infants' furniture   \n",
              "\n",
              "     display_level selectable  sort_sequence  \n",
              "0                0          T              2  \n",
              "1                0          T            399  \n",
              "2                0          T              1  \n",
              "3                1          T            374  \n",
              "4                1          T            358  \n",
              "..             ...        ...            ...  \n",
              "394              4          T            352  \n",
              "395              3          T            314  \n",
              "396              3          T            122  \n",
              "397              3          T            355  \n",
              "398              3          T            165  \n",
              "\n",
              "[399 rows x 5 columns]"
            ]
          },
          "metadata": {},
          "execution_count": 2
        }
      ],
      "metadata": {
        "colab": {
          "base_uri": "https://localhost:8080/",
          "height": 218
        },
        "id": "3mcbsGPuKAEg",
        "outputId": "af095051-6ca1-4595-f666-c4ad2fc6a5f5"
      }
    },
    {
      "cell_type": "code",
      "execution_count": 3,
      "source": [
        "df.info()"
      ],
      "outputs": [
        {
          "output_type": "stream",
          "name": "stdout",
          "text": [
            "<class 'pandas.core.frame.DataFrame'>\n",
            "RangeIndex: 399 entries, 0 to 398\n",
            "Data columns (total 5 columns):\n",
            " #   Column         Non-Null Count  Dtype \n",
            "---  ------         --------------  ----- \n",
            " 0   item_code      399 non-null    object\n",
            " 1   item_name      399 non-null    object\n",
            " 2   display_level  399 non-null    int64 \n",
            " 3   selectable     399 non-null    object\n",
            " 4   sort_sequence  399 non-null    int64 \n",
            "dtypes: int64(2), object(3)\n",
            "memory usage: 15.7+ KB\n"
          ]
        }
      ],
      "metadata": {
        "id": "nTgCJ1gYKszh"
      }
    },
    {
      "cell_type": "code",
      "execution_count": 4,
      "source": [
        "df.sample(10)"
      ],
      "outputs": [
        {
          "output_type": "execute_result",
          "data": {
            "text/html": [
              "<div>\n",
              "<style scoped>\n",
              "    .dataframe tbody tr th:only-of-type {\n",
              "        vertical-align: middle;\n",
              "    }\n",
              "\n",
              "    .dataframe tbody tr th {\n",
              "        vertical-align: top;\n",
              "    }\n",
              "\n",
              "    .dataframe thead th {\n",
              "        text-align: right;\n",
              "    }\n",
              "</style>\n",
              "<table border=\"1\" class=\"dataframe\">\n",
              "  <thead>\n",
              "    <tr style=\"text-align: right;\">\n",
              "      <th></th>\n",
              "      <th>item_code</th>\n",
              "      <th>item_name</th>\n",
              "      <th>display_level</th>\n",
              "      <th>selectable</th>\n",
              "      <th>sort_sequence</th>\n",
              "    </tr>\n",
              "  </thead>\n",
              "  <tbody>\n",
              "    <tr>\n",
              "      <th>121</th>\n",
              "      <td>SEFB04</td>\n",
              "      <td>Other bakery products</td>\n",
              "      <td>5</td>\n",
              "      <td>T</td>\n",
              "      <td>20</td>\n",
              "    </tr>\n",
              "    <tr>\n",
              "      <th>352</th>\n",
              "      <td>SS18064</td>\n",
              "      <td>Prepared salads</td>\n",
              "      <td>6</td>\n",
              "      <td>T</td>\n",
              "      <td>117</td>\n",
              "    </tr>\n",
              "    <tr>\n",
              "      <th>111</th>\n",
              "      <td>SEEE04</td>\n",
              "      <td>Telephone hardware, calculators, and other con...</td>\n",
              "      <td>3</td>\n",
              "      <td>T</td>\n",
              "      <td>334</td>\n",
              "    </tr>\n",
              "    <tr>\n",
              "      <th>198</th>\n",
              "      <td>SEGC</td>\n",
              "      <td>Personal care services</td>\n",
              "      <td>2</td>\n",
              "      <td>T</td>\n",
              "      <td>343</td>\n",
              "    </tr>\n",
              "    <tr>\n",
              "      <th>39</th>\n",
              "      <td>SAF114</td>\n",
              "      <td>Nonalcoholic beverages and beverage materials</td>\n",
              "      <td>3</td>\n",
              "      <td>T</td>\n",
              "      <td>84</td>\n",
              "    </tr>\n",
              "    <tr>\n",
              "      <th>338</th>\n",
              "      <td>SS10011</td>\n",
              "      <td>Butter</td>\n",
              "      <td>6</td>\n",
              "      <td>T</td>\n",
              "      <td>101</td>\n",
              "    </tr>\n",
              "    <tr>\n",
              "      <th>79</th>\n",
              "      <td>SEAA04</td>\n",
              "      <td>Men's pants and shorts</td>\n",
              "      <td>3</td>\n",
              "      <td>T</td>\n",
              "      <td>193</td>\n",
              "    </tr>\n",
              "    <tr>\n",
              "      <th>284</th>\n",
              "      <td>SERE01</td>\n",
              "      <td>Toys</td>\n",
              "      <td>2</td>\n",
              "      <td>T</td>\n",
              "      <td>297</td>\n",
              "    </tr>\n",
              "    <tr>\n",
              "      <th>270</th>\n",
              "      <td>SERA05</td>\n",
              "      <td>Audio equipment</td>\n",
              "      <td>2</td>\n",
              "      <td>T</td>\n",
              "      <td>277</td>\n",
              "    </tr>\n",
              "    <tr>\n",
              "      <th>166</th>\n",
              "      <td>SEFR</td>\n",
              "      <td>Sugar and sweets</td>\n",
              "      <td>4</td>\n",
              "      <td>T</td>\n",
              "      <td>95</td>\n",
              "    </tr>\n",
              "  </tbody>\n",
              "</table>\n",
              "</div>"
            ],
            "text/plain": [
              "    item_code                                          item_name  \\\n",
              "121    SEFB04                              Other bakery products   \n",
              "352   SS18064                                    Prepared salads   \n",
              "111    SEEE04  Telephone hardware, calculators, and other con...   \n",
              "198      SEGC                             Personal care services   \n",
              "39     SAF114      Nonalcoholic beverages and beverage materials   \n",
              "338   SS10011                                             Butter   \n",
              "79     SEAA04                             Men's pants and shorts   \n",
              "284    SERE01                                               Toys   \n",
              "270    SERA05                                    Audio equipment   \n",
              "166      SEFR                                   Sugar and sweets   \n",
              "\n",
              "     display_level selectable  sort_sequence  \n",
              "121              5          T             20  \n",
              "352              6          T            117  \n",
              "111              3          T            334  \n",
              "198              2          T            343  \n",
              "39               3          T             84  \n",
              "338              6          T            101  \n",
              "79               3          T            193  \n",
              "284              2          T            297  \n",
              "270              2          T            277  \n",
              "166              4          T             95  "
            ]
          },
          "metadata": {},
          "execution_count": 4
        }
      ],
      "metadata": {
        "id": "nIb820t7KukZ"
      }
    },
    {
      "cell_type": "code",
      "execution_count": 5,
      "source": [
        "df.isna().value_counts()"
      ],
      "outputs": [
        {
          "output_type": "execute_result",
          "data": {
            "text/plain": [
              "item_code  item_name  display_level  selectable  sort_sequence\n",
              "False      False      False          False       False            399\n",
              "dtype: int64"
            ]
          },
          "metadata": {},
          "execution_count": 5
        }
      ],
      "metadata": {}
    },
    {
      "cell_type": "code",
      "execution_count": 6,
      "source": [
        "df.selectable.unique()"
      ],
      "outputs": [
        {
          "output_type": "execute_result",
          "data": {
            "text/plain": [
              "array(['T'], dtype=object)"
            ]
          },
          "metadata": {},
          "execution_count": 6
        }
      ],
      "metadata": {}
    },
    {
      "cell_type": "code",
      "execution_count": 7,
      "source": [
        "df.item_code.value_counts()"
      ],
      "outputs": [
        {
          "output_type": "execute_result",
          "data": {
            "text/plain": [
              "AA0        1\n",
              "SERB       1\n",
              "SERAC      1\n",
              "SERA06     1\n",
              "SERA05     1\n",
              "          ..\n",
              "SEFD03     1\n",
              "SEFD02     1\n",
              "SEFD01     1\n",
              "SEFD       1\n",
              "SSHJ031    1\n",
              "Name: item_code, Length: 399, dtype: int64"
            ]
          },
          "metadata": {},
          "execution_count": 7
        }
      ],
      "metadata": {}
    },
    {
      "cell_type": "code",
      "execution_count": 8,
      "source": [
        "df.sort_values('sort_sequence')"
      ],
      "outputs": [
        {
          "output_type": "execute_result",
          "data": {
            "text/html": [
              "<div>\n",
              "<style scoped>\n",
              "    .dataframe tbody tr th:only-of-type {\n",
              "        vertical-align: middle;\n",
              "    }\n",
              "\n",
              "    .dataframe tbody tr th {\n",
              "        vertical-align: top;\n",
              "    }\n",
              "\n",
              "    .dataframe thead th {\n",
              "        text-align: right;\n",
              "    }\n",
              "</style>\n",
              "<table border=\"1\" class=\"dataframe\">\n",
              "  <thead>\n",
              "    <tr style=\"text-align: right;\">\n",
              "      <th></th>\n",
              "      <th>item_code</th>\n",
              "      <th>item_name</th>\n",
              "      <th>display_level</th>\n",
              "      <th>selectable</th>\n",
              "      <th>sort_sequence</th>\n",
              "    </tr>\n",
              "  </thead>\n",
              "  <tbody>\n",
              "    <tr>\n",
              "      <th>2</th>\n",
              "      <td>SA0</td>\n",
              "      <td>All items</td>\n",
              "      <td>0</td>\n",
              "      <td>T</td>\n",
              "      <td>1</td>\n",
              "    </tr>\n",
              "    <tr>\n",
              "      <th>0</th>\n",
              "      <td>AA0</td>\n",
              "      <td>All items - old base</td>\n",
              "      <td>0</td>\n",
              "      <td>T</td>\n",
              "      <td>2</td>\n",
              "    </tr>\n",
              "    <tr>\n",
              "      <th>30</th>\n",
              "      <td>SAF</td>\n",
              "      <td>Food and beverages</td>\n",
              "      <td>0</td>\n",
              "      <td>T</td>\n",
              "      <td>3</td>\n",
              "    </tr>\n",
              "    <tr>\n",
              "      <th>31</th>\n",
              "      <td>SAF1</td>\n",
              "      <td>Food</td>\n",
              "      <td>1</td>\n",
              "      <td>T</td>\n",
              "      <td>4</td>\n",
              "    </tr>\n",
              "    <tr>\n",
              "      <th>32</th>\n",
              "      <td>SAF11</td>\n",
              "      <td>Food at home</td>\n",
              "      <td>2</td>\n",
              "      <td>T</td>\n",
              "      <td>5</td>\n",
              "    </tr>\n",
              "    <tr>\n",
              "      <th>...</th>\n",
              "      <td>...</td>\n",
              "      <td>...</td>\n",
              "      <td>...</td>\n",
              "      <td>...</td>\n",
              "      <td>...</td>\n",
              "    </tr>\n",
              "    <tr>\n",
              "      <th>65</th>\n",
              "      <td>SAS24</td>\n",
              "      <td>Utilities and public transportation</td>\n",
              "      <td>1</td>\n",
              "      <td>T</td>\n",
              "      <td>395</td>\n",
              "    </tr>\n",
              "    <tr>\n",
              "      <th>272</th>\n",
              "      <td>SERAC</td>\n",
              "      <td>Video and audio products</td>\n",
              "      <td>1</td>\n",
              "      <td>T</td>\n",
              "      <td>396</td>\n",
              "    </tr>\n",
              "    <tr>\n",
              "      <th>273</th>\n",
              "      <td>SERAS</td>\n",
              "      <td>Video and audio services</td>\n",
              "      <td>1</td>\n",
              "      <td>T</td>\n",
              "      <td>397</td>\n",
              "    </tr>\n",
              "    <tr>\n",
              "      <th>12</th>\n",
              "      <td>SA0R</td>\n",
              "      <td>Purchasing power of the consumer dollar</td>\n",
              "      <td>0</td>\n",
              "      <td>T</td>\n",
              "      <td>398</td>\n",
              "    </tr>\n",
              "    <tr>\n",
              "      <th>1</th>\n",
              "      <td>AA0R</td>\n",
              "      <td>Purchasing power of the consumer dollar - old ...</td>\n",
              "      <td>0</td>\n",
              "      <td>T</td>\n",
              "      <td>399</td>\n",
              "    </tr>\n",
              "  </tbody>\n",
              "</table>\n",
              "<p>399 rows × 5 columns</p>\n",
              "</div>"
            ],
            "text/plain": [
              "    item_code                                          item_name  \\\n",
              "2         SA0                                          All items   \n",
              "0         AA0                               All items - old base   \n",
              "30        SAF                                 Food and beverages   \n",
              "31       SAF1                                               Food   \n",
              "32      SAF11                                       Food at home   \n",
              "..        ...                                                ...   \n",
              "65      SAS24                Utilities and public transportation   \n",
              "272     SERAC                           Video and audio products   \n",
              "273     SERAS                           Video and audio services   \n",
              "12       SA0R            Purchasing power of the consumer dollar   \n",
              "1        AA0R  Purchasing power of the consumer dollar - old ...   \n",
              "\n",
              "     display_level selectable  sort_sequence  \n",
              "2                0          T              1  \n",
              "0                0          T              2  \n",
              "30               0          T              3  \n",
              "31               1          T              4  \n",
              "32               2          T              5  \n",
              "..             ...        ...            ...  \n",
              "65               1          T            395  \n",
              "272              1          T            396  \n",
              "273              1          T            397  \n",
              "12               0          T            398  \n",
              "1                0          T            399  \n",
              "\n",
              "[399 rows x 5 columns]"
            ]
          },
          "metadata": {},
          "execution_count": 8
        }
      ],
      "metadata": {}
    },
    {
      "cell_type": "code",
      "execution_count": 9,
      "source": [
        "df.display_level.unique()"
      ],
      "outputs": [
        {
          "output_type": "execute_result",
          "data": {
            "text/plain": [
              "array([0, 1, 2, 3, 4, 5, 6, 7, 8], dtype=int64)"
            ]
          },
          "metadata": {},
          "execution_count": 9
        }
      ],
      "metadata": {}
    },
    {
      "cell_type": "code",
      "execution_count": 10,
      "source": [
        "df.display_level.value_counts()"
      ],
      "outputs": [
        {
          "output_type": "execute_result",
          "data": {
            "text/plain": [
              "3    113\n",
              "2     70\n",
              "1     66\n",
              "4     43\n",
              "5     37\n",
              "6     37\n",
              "7     18\n",
              "0     12\n",
              "8      3\n",
              "Name: display_level, dtype: int64"
            ]
          },
          "metadata": {},
          "execution_count": 10
        }
      ],
      "metadata": {}
    },
    {
      "cell_type": "code",
      "execution_count": 11,
      "source": [
        "import seaborn as sns\r\n",
        "sns.countplot(df.display_level);"
      ],
      "outputs": [
        {
          "output_type": "stream",
          "name": "stderr",
          "text": [
            "C:\\Users\\Rohan\\AppData\\Local\\Programs\\Python\\Python39\\lib\\site-packages\\seaborn\\_decorators.py:36: FutureWarning: Pass the following variable as a keyword arg: x. From version 0.12, the only valid positional argument will be `data`, and passing other arguments without an explicit keyword will result in an error or misinterpretation.\n",
            "  warnings.warn(\n"
          ]
        },
        {
          "output_type": "display_data",
          "data": {
            "image/png": "[encoded data removed]",
            "text/plain": [
              "<Figure size 432x288 with 1 Axes>"
            ]
          },
          "metadata": {
            "needs_background": "light"
          }
        }
      ],
      "metadata": {}
    },
    {
      "cell_type": "markdown",
      "source": [
        "# Thus we can see -\r\n",
        "### 1. There is no NaN values\r\n",
        "### 2. All the values of selectable column are T\r\n",
        "### 3. All the items in item_code are unique\r\n",
        "### 4. Sorting the dataframe w.r.t sort_sequence column gives no unique/special inference\r\n",
        "### 5. There are 9 kinds of display level ranging from 0-8 and most occuring is 3 and least occuring is 8\r\n"
      ],
      "metadata": {}
    },
    {
      "cell_type": "code",
      "execution_count": null,
      "source": [],
      "outputs": [],
      "metadata": {}
    }
  ]
}
