{
  "nbformat": 4,
  "nbformat_minor": 2,
  "metadata": {
    "kernelspec": {
      "name": "python3",
      "display_name": "Python 3.9.6 64-bit"
    },
    "language_info": {
      "codemirror_mode": {
        "name": "ipython",
        "version": 3
      },
      "file_extension": ".py",
      "mimetype": "text/x-python",
      "name": "python",
      "nbconvert_exporter": "python",
      "pygments_lexer": "ipython3",
      "version": "3.9.6"
    },
    "colab": {
      "name": "Essentials-Day1_python for Data science.ipynb",
      "provenance": []
    },
    "interpreter": {
      "hash": "8851df47834bdf67223ff366975cf256d603d606bf35e2616a5669081cab6ba0"
    }
  },
  "cells": [
    {
      "cell_type": "markdown",
      "source": [
        "# Assignment is at the bottom, please head over there for evaluation."
      ],
      "metadata": {}
    },
    {
      "cell_type": "markdown",
      "source": [
        "# Python Tutorial\n",
        "\n",
        "## Welcome to Python Tutorial\n",
        "\n",
        "Python has several built-in data types for storing different kinds of information in variables. Following are some commonly used data types:\n",
        "\n",
        "1. Integer\n",
        "2. Float\n",
        "3. Boolean\n",
        "4. None\n",
        "5. String\n",
        "6. List\n",
        "7. Tuple\n",
        "8. Dictionary\n",
        "\n",
        "Integer, float, boolean, None, and string are *primitive data types* because they represent a single value. Other data types like list, tuple, and dictionary are often called *data structures* or *containers* because they hold multiple pieces of data together."
      ],
      "metadata": {
        "id": "b5Vp-hSeu-Xp"
      }
    },
    {
      "cell_type": "markdown",
      "source": [
        "### Integer\n",
        "\n",
        "Integers represent positive or negative whole numbers, from negative infinity to infinity. Note that integers should not include decimal points. Integers have the type `int`."
      ],
      "metadata": {
        "id": "A1bA4mU5u-X4"
      }
    },
    {
      "cell_type": "code",
      "execution_count": null,
      "source": [
        "current_year = 2021"
      ],
      "outputs": [],
      "metadata": {
        "id": "vOnNGzRAu-X9"
      }
    },
    {
      "cell_type": "code",
      "execution_count": null,
      "source": [
        "type(current_year)"
      ],
      "outputs": [
        {
          "output_type": "execute_result",
          "data": {
            "text/plain": [
              "int"
            ]
          },
          "metadata": {},
          "execution_count": 182
        }
      ],
      "metadata": {
        "id": "bwkTG7isu-YB",
        "outputId": "8d5ac154-7fe6-4721-ac92-783119a89228"
      }
    },
    {
      "cell_type": "code",
      "execution_count": null,
      "source": [
        "1+1 "
      ],
      "outputs": [
        {
          "output_type": "execute_result",
          "data": {
            "text/plain": [
              "2"
            ]
          },
          "metadata": {},
          "execution_count": 183
        }
      ],
      "metadata": {
        "id": "ZcRALJd4u-YF",
        "outputId": "fe1edd40-64f1-47ef-e93b-8b2dee93145a"
      }
    },
    {
      "cell_type": "code",
      "execution_count": null,
      "source": [
        "4*5"
      ],
      "outputs": [
        {
          "output_type": "execute_result",
          "data": {
            "text/plain": [
              "20"
            ]
          },
          "metadata": {},
          "execution_count": 184
        }
      ],
      "metadata": {
        "id": "pW3vZNY-u-YH",
        "outputId": "b0e18e8a-8036-4cf8-8aaf-242964002210"
      }
    },
    {
      "cell_type": "code",
      "execution_count": null,
      "source": [
        "2**10"
      ],
      "outputs": [
        {
          "output_type": "execute_result",
          "data": {
            "text/plain": [
              "1024"
            ]
          },
          "metadata": {},
          "execution_count": 186
        }
      ],
      "metadata": {
        "id": "dYVZb-HZu-YJ",
        "outputId": "7ce885e1-f2ec-4723-cd4f-37774de37741"
      }
    },
    {
      "cell_type": "code",
      "execution_count": null,
      "source": [
        "10/2"
      ],
      "outputs": [
        {
          "output_type": "execute_result",
          "data": {
            "text/plain": [
              "5.0"
            ]
          },
          "metadata": {},
          "execution_count": 187
        }
      ],
      "metadata": {
        "id": "e-N_gGfGu-YN",
        "outputId": "35669af4-da90-43b2-8a9a-e063194b9e6f"
      }
    },
    {
      "cell_type": "code",
      "execution_count": null,
      "source": [
        "10//2"
      ],
      "outputs": [
        {
          "output_type": "execute_result",
          "data": {
            "text/plain": [
              "5"
            ]
          },
          "metadata": {},
          "execution_count": 188
        }
      ],
      "metadata": {
        "id": "ATMrjY7lu-YQ",
        "outputId": "797fe639-c4eb-4497-da0e-15393dcf2194"
      }
    },
    {
      "cell_type": "code",
      "execution_count": null,
      "source": [
        "21%2"
      ],
      "outputs": [
        {
          "output_type": "execute_result",
          "data": {
            "text/plain": [
              "1"
            ]
          },
          "metadata": {},
          "execution_count": 190
        }
      ],
      "metadata": {
        "id": "JqMsn_Vfu-YV",
        "outputId": "66d54df4-5da4-4a8a-8427-548f7198bb12"
      }
    },
    {
      "cell_type": "code",
      "execution_count": null,
      "source": [
        "print(\"Hello students\")"
      ],
      "outputs": [
        {
          "output_type": "stream",
          "name": "stdout",
          "text": [
            "Hello students\n"
          ]
        }
      ],
      "metadata": {
        "id": "3a7lxpaQu-YW",
        "outputId": "ab084143-8b3c-46b8-9007-e7194cbedb28"
      }
    },
    {
      "cell_type": "code",
      "execution_count": null,
      "source": [
        "type()"
      ],
      "outputs": [
        {
          "output_type": "execute_result",
          "data": {
            "text/plain": [
              "int"
            ]
          },
          "metadata": {},
          "execution_count": 195
        }
      ],
      "metadata": {
        "id": "C5t_qMiiu-YX",
        "outputId": "b52123f2-f0a8-4499-91fb-43530faa6aab"
      }
    },
    {
      "cell_type": "markdown",
      "source": [
        "A float is a number with a decimal place - very useful for representing things like weights or proportions.\n",
        "\n",
        "type() is the second built-in function we've seen (after print()), and it's another good one to remember. It's very useful to be able to ask Python \"what kind of thing is this?\"\n",
        "\n",
        "Floating point numbers can also be written using the scientific notation with an \"e\" to indicate the power of 10."
      ],
      "metadata": {
        "id": "XuYvemkZu-YZ"
      }
    },
    {
      "cell_type": "code",
      "execution_count": null,
      "source": [
        "one_hundredth = 2e-2\r\n",
        "one_hundredth"
      ],
      "outputs": [
        {
          "output_type": "execute_result",
          "data": {
            "text/plain": [
              "0.02"
            ]
          },
          "metadata": {},
          "execution_count": 200
        }
      ],
      "metadata": {
        "id": "7exKkCf9u-Yc",
        "outputId": "7eb0e43a-be88-44b8-e8c7-caded26f869d"
      }
    },
    {
      "cell_type": "code",
      "execution_count": null,
      "source": [
        "type(one_hundredth)"
      ],
      "outputs": [
        {
          "output_type": "execute_result",
          "data": {
            "text/plain": [
              "float"
            ]
          },
          "metadata": {},
          "execution_count": 201
        }
      ],
      "metadata": {
        "id": "AON7Bc8yu-Ye",
        "outputId": "aae84cb9-d185-4613-e665-993874d6a414"
      }
    },
    {
      "cell_type": "code",
      "execution_count": null,
      "source": [
        "10%2"
      ],
      "outputs": [
        {
          "output_type": "execute_result",
          "data": {
            "text/plain": [
              "0"
            ]
          },
          "metadata": {},
          "execution_count": 202
        }
      ],
      "metadata": {
        "id": "t2NmbuGMu-Yf",
        "outputId": "2ef6d748-cfc7-4c31-f181-cd61f7a46c8b"
      }
    },
    {
      "cell_type": "code",
      "execution_count": null,
      "source": [
        "10**2"
      ],
      "outputs": [
        {
          "output_type": "execute_result",
          "data": {
            "text/plain": [
              "100"
            ]
          },
          "metadata": {},
          "execution_count": 203
        }
      ],
      "metadata": {
        "id": "9Kzz7KZbu-Yg",
        "outputId": "e599ff77-9679-41a7-8da7-8b86a56fc03e"
      }
    },
    {
      "cell_type": "code",
      "execution_count": null,
      "source": [
        "##Check the Data types"
      ],
      "outputs": [],
      "metadata": {
        "id": "43FaCUJsu-Yk"
      }
    },
    {
      "cell_type": "code",
      "execution_count": null,
      "source": [
        "type(True)"
      ],
      "outputs": [
        {
          "output_type": "execute_result",
          "data": {
            "text/plain": [
              "bool"
            ]
          },
          "metadata": {},
          "execution_count": 204
        }
      ],
      "metadata": {
        "id": "PRh2x_Nyu-Yl",
        "outputId": "505d7c1a-dcc1-4189-e2d8-adce2b5e6322"
      }
    },
    {
      "cell_type": "code",
      "execution_count": null,
      "source": [
        "type(\"Hello\")"
      ],
      "outputs": [
        {
          "output_type": "execute_result",
          "data": {
            "text/plain": [
              "str"
            ]
          },
          "metadata": {},
          "execution_count": 205
        }
      ],
      "metadata": {
        "id": "hiJ5YReZu-Yo",
        "outputId": "4b9da6cc-65ac-43ef-be9d-cf2e50dbf189"
      }
    },
    {
      "cell_type": "markdown",
      "source": [
        "### Strings"
      ],
      "metadata": {
        "id": "yvwwEv-mu-Yr"
      }
    },
    {
      "cell_type": "code",
      "execution_count": null,
      "source": [
        "\"Hello\""
      ],
      "outputs": [
        {
          "output_type": "execute_result",
          "data": {
            "text/plain": [
              "'Hello'"
            ]
          },
          "metadata": {},
          "execution_count": 206
        }
      ],
      "metadata": {
        "id": "GxHVzI7bu-Ys",
        "outputId": "90494425-e8ba-4ecd-de59-debb67fcca29"
      }
    },
    {
      "cell_type": "code",
      "execution_count": null,
      "source": [
        "'Lets upgrade2021'"
      ],
      "outputs": [
        {
          "output_type": "execute_result",
          "data": {
            "text/plain": [
              "'Lets upgrade2021'"
            ]
          },
          "metadata": {},
          "execution_count": 209
        }
      ],
      "metadata": {
        "id": "67aE3g-0u-Yu",
        "outputId": "012a97ed-5b4b-4bde-cd08-2bf36708e523"
      }
    },
    {
      "cell_type": "code",
      "execution_count": null,
      "source": [
        "type(\"2021\")"
      ],
      "outputs": [
        {
          "output_type": "execute_result",
          "data": {
            "text/plain": [
              "str"
            ]
          },
          "metadata": {},
          "execution_count": 211
        }
      ],
      "metadata": {
        "id": "3Gk7N4yMu-Yv",
        "outputId": "b11c055f-a4c7-49f8-9966-927c2f1e0340"
      }
    },
    {
      "cell_type": "markdown",
      "source": [
        "### Variable Assigment\n",
        "\n",
        "Here we create a variable called say 'var' and assign it the value of 0 using =, which is called the assignment operator."
      ],
      "metadata": {
        "id": "E6j_4r19u-Yw"
      }
    },
    {
      "cell_type": "code",
      "execution_count": null,
      "source": [
        "# syntax\r\n",
        "# var_name=values\r\n",
        "\r\n",
        "\r\n",
        "a=10"
      ],
      "outputs": [],
      "metadata": {
        "id": "-0QJDF-Tu-Yw"
      }
    },
    {
      "cell_type": "code",
      "execution_count": null,
      "source": [
        "type(a)"
      ],
      "outputs": [
        {
          "output_type": "execute_result",
          "data": {
            "text/plain": [
              "int"
            ]
          },
          "metadata": {},
          "execution_count": 214
        }
      ],
      "metadata": {
        "id": "DRnqTBRdu-Yx",
        "outputId": "4afa42ba-6133-47ba-9c1b-8153b0ebbfbd"
      }
    },
    {
      "cell_type": "code",
      "execution_count": null,
      "source": [
        "a='Lets upgrade'"
      ],
      "outputs": [],
      "metadata": {
        "id": "zeDWb0Gku-Yx"
      }
    },
    {
      "cell_type": "code",
      "execution_count": null,
      "source": [
        "type(a)"
      ],
      "outputs": [
        {
          "output_type": "execute_result",
          "data": {
            "text/plain": [
              "str"
            ]
          },
          "metadata": {},
          "execution_count": 216
        }
      ],
      "metadata": {
        "id": "o9I45mpKu-Yz",
        "outputId": "4534c4d2-68a5-41fe-8b3e-6e97baa614fd"
      }
    },
    {
      "cell_type": "code",
      "execution_count": null,
      "source": [
        "## Various Ways of Printing\r\n",
        "\r\n",
        "print(\"Hello\")"
      ],
      "outputs": [
        {
          "output_type": "stream",
          "name": "stdout",
          "text": [
            "Hello\n"
          ]
        }
      ],
      "metadata": {
        "id": "bry9UgXku-Y1",
        "outputId": "729e31bc-3155-4511-ba91-cd1524b0f061"
      }
    },
    {
      "cell_type": "code",
      "execution_count": null,
      "source": [
        "first_name='Lakshmi'\r\n",
        "last_name='Ravindran'"
      ],
      "outputs": [],
      "metadata": {
        "id": "jI1OlFwCu-Y4"
      }
    },
    {
      "cell_type": "code",
      "execution_count": null,
      "source": [
        "print(\"My first name is {} and last name is {}\".format(first_name,last_name))"
      ],
      "outputs": [
        {
          "output_type": "stream",
          "name": "stdout",
          "text": [
            "My first name is Lakshmi and last name is Ravindran\n"
          ]
        }
      ],
      "metadata": {
        "id": "HSALrzqNu-Y4",
        "outputId": "275ca559-85b8-4614-9ab3-ca8a1d7f67ab"
      }
    },
    {
      "cell_type": "code",
      "execution_count": null,
      "source": [
        "print(\"My First name is {first} and last name is {last}\".format(last=last_name,first=first_name))"
      ],
      "outputs": [
        {
          "output_type": "stream",
          "name": "stdout",
          "text": [
            "My First name is Lakshmi and last name is Ravindran\n"
          ]
        }
      ],
      "metadata": {
        "id": "rrexgaxIu-ZA",
        "outputId": "6b2dc811-5042-4ffe-9e9a-f6336ece8f23"
      }
    },
    {
      "cell_type": "code",
      "execution_count": null,
      "source": [
        "len('Lakshmi') "
      ],
      "outputs": [
        {
          "output_type": "execute_result",
          "data": {
            "text/plain": [
              "7"
            ]
          },
          "metadata": {},
          "execution_count": 223
        }
      ],
      "metadata": {
        "id": "-wIo8GoDu-ZB",
        "outputId": "6bea2975-33ad-499b-b667-c69c6a3bedd4"
      }
    },
    {
      "cell_type": "markdown",
      "source": [
        "## How to check for what datatype"
      ],
      "metadata": {
        "id": "osPJV6j0u-ZC"
      }
    },
    {
      "cell_type": "code",
      "execution_count": null,
      "source": [
        "type(['1',2,3,4,5])"
      ],
      "outputs": [
        {
          "output_type": "execute_result",
          "data": {
            "text/plain": [
              "list"
            ]
          },
          "metadata": {},
          "execution_count": 224
        }
      ],
      "metadata": {
        "id": "DthkHlifu-ZD",
        "outputId": "16efdcea-9ba1-4c65-fb14-85a69a3c0027"
      }
    },
    {
      "cell_type": "code",
      "execution_count": null,
      "source": [
        "type(14.4)"
      ],
      "outputs": [
        {
          "output_type": "execute_result",
          "data": {
            "text/plain": [
              "float"
            ]
          },
          "metadata": {},
          "execution_count": 225
        }
      ],
      "metadata": {
        "id": "ZnceYMqou-ZE",
        "outputId": "dfbf898a-f54b-441e-b24c-74ce8a097417"
      }
    },
    {
      "cell_type": "code",
      "execution_count": null,
      "source": [
        "type(\"Hello\")"
      ],
      "outputs": [],
      "metadata": {
        "id": "HgttEc63u-ZF"
      }
    },
    {
      "cell_type": "code",
      "execution_count": null,
      "source": [
        "hat_height_cm = 25\r\n",
        "my_height_cm = 190\r\n",
        "# How tall am I, in meters, when wearing my hat?\r\n",
        "\r\n",
        "total_height_meters = hat_height_cm + my_height_cm / 100\r\n",
        "print(\"Height in meters =\", total_height_meters, \"?\")"
      ],
      "outputs": [
        {
          "output_type": "stream",
          "name": "stdout",
          "text": [
            "Height in meters = 26.9 ?\n"
          ]
        }
      ],
      "metadata": {
        "id": "aAYf4ftSu-ZF",
        "outputId": "0294743d-1871-4794-9b02-02d83243b5a4"
      }
    },
    {
      "cell_type": "code",
      "execution_count": null,
      "source": [
        "total_height_meters = (hat_height_cm + my_height_cm) / 100\r\n",
        "print(\"Height in meters =\", total_height_meters)"
      ],
      "outputs": [
        {
          "output_type": "stream",
          "name": "stdout",
          "text": [
            "Height in meters = 2.15\n"
          ]
        }
      ],
      "metadata": {
        "id": "1ArxYa5Qu-ZG",
        "outputId": "902d1d87-9091-4067-9894-b353ffb5e98a"
      }
    },
    {
      "cell_type": "code",
      "execution_count": null,
      "source": [
        "help(round)  ## help() "
      ],
      "outputs": [
        {
          "output_type": "stream",
          "name": "stdout",
          "text": [
            "Help on built-in function round in module builtins:\n",
            "\n",
            "round(number, ndigits=None)\n",
            "    Round a number to a given precision in decimal digits.\n",
            "    \n",
            "    The return value is an integer if ndigits is omitted or None.  Otherwise\n",
            "    the return value has the same type as the number.  ndigits may be negative.\n",
            "\n"
          ]
        }
      ],
      "metadata": {
        "id": "xQpy9n7Du-ZH",
        "outputId": "a403e37a-fe3f-4618-ed82-286c105544b3"
      }
    },
    {
      "cell_type": "markdown",
      "source": [
        "### Built-in functions for working with numbers\n",
        "\n",
        " min and max return the minimum and maximum of their arguments, respectively..."
      ],
      "metadata": {
        "id": "rbEpJioYu-ZH"
      }
    },
    {
      "cell_type": "code",
      "execution_count": null,
      "source": [
        "print(min(1, 2, 3))\r\n",
        "print(max(1, 2, 3))"
      ],
      "outputs": [
        {
          "output_type": "stream",
          "name": "stdout",
          "text": [
            "1\n",
            "3\n"
          ]
        }
      ],
      "metadata": {
        "id": "yu9uiwcSu-ZI",
        "outputId": "ab1e2487-6be0-4c13-e6bb-9345ec874f94"
      }
    },
    {
      "cell_type": "code",
      "execution_count": null,
      "source": [
        "print(abs(32))  ###abs returns the absolute value of an argument\r\n",
        "print(abs(-32))"
      ],
      "outputs": [
        {
          "output_type": "stream",
          "name": "stdout",
          "text": [
            "32\n",
            "32\n"
          ]
        }
      ],
      "metadata": {
        "id": "SywTjpaUu-ZK",
        "outputId": "55d6ccfb-a59f-465c-a099-efe14e7248cf"
      }
    },
    {
      "cell_type": "code",
      "execution_count": null,
      "source": [
        "## n addition to being the names of Python's two main numerical types, \r\n",
        "#int and float can also be called as functions which convert their arguments to the corresponding type:\r\n",
        "print(float(10))\r\n",
        "print(int(3.33))\r\n",
        "# They can even be called on strings!\r\n",
        "print(int('807') + 1)"
      ],
      "outputs": [],
      "metadata": {
        "id": "kbzg_lpyu-ZL"
      }
    },
    {
      "cell_type": "markdown",
      "source": [
        "The help() function is possibly the most important Python function you can learn. If you can remember how to use help(), you hold the key to understanding most other functions."
      ],
      "metadata": {
        "id": "v_Utvvs4u-ZN"
      }
    },
    {
      "cell_type": "code",
      "execution_count": null,
      "source": [
        "help(abs)"
      ],
      "outputs": [
        {
          "output_type": "stream",
          "name": "stdout",
          "text": [
            "Help on built-in function abs in module builtins:\n",
            "\n",
            "abs(x, /)\n",
            "    Return the absolute value of the argument.\n",
            "\n"
          ]
        }
      ],
      "metadata": {
        "id": "wWVxjGLSu-ZO",
        "outputId": "2dbdb706-7850-47d5-f051-9b1fbf37bb0c"
      }
    },
    {
      "cell_type": "markdown",
      "source": [
        "## Python Data Structures and Boolean \n",
        "\n",
        "- Boolean\n",
        "- Boolean and Logical Operators\n",
        "- Lists\n",
        "- Comparison operators\n",
        "- Dictionaries\n",
        "- Tuples\n",
        "- Sets\n"
      ],
      "metadata": {
        "id": "TW8vTidSu-ZQ"
      }
    },
    {
      "cell_type": "markdown",
      "source": [
        "### Boolean Variables\n",
        "\n",
        "Boolean values are the two constant objects False and True. \n",
        "\n",
        "They are used to represent truth values (other values can also be considered\n",
        "false or true). \n",
        "\n",
        "In numeric contexts (for example, when used as the argument to an\n",
        "arithmetic operator), they behave like the integers 0 and 1, respectively.\n",
        "\n",
        "The built-in function bool() can be used to cast any value to a Boolean,\n",
        "if the value can be interpreted as a truth value\n",
        "\n",
        "They are written as False and True, respectively."
      ],
      "metadata": {
        "id": "70TnU14fu-ZR"
      }
    },
    {
      "cell_type": "code",
      "execution_count": null,
      "source": [
        "type(True)"
      ],
      "outputs": [
        {
          "output_type": "execute_result",
          "data": {
            "text/plain": [
              "bool"
            ]
          },
          "metadata": {},
          "execution_count": 235
        }
      ],
      "metadata": {
        "id": "EYUqqKX1u-ZS",
        "outputId": "55b04e63-a72e-46ce-a583-2be15bf30326"
      }
    },
    {
      "cell_type": "code",
      "execution_count": null,
      "source": [
        "type(False)"
      ],
      "outputs": [
        {
          "output_type": "execute_result",
          "data": {
            "text/plain": [
              "bool"
            ]
          },
          "metadata": {},
          "execution_count": 236
        }
      ],
      "metadata": {
        "id": "MQd1LLcvu-ZT",
        "outputId": "6c55d213-568f-4160-b44b-ca7786d34323"
      }
    },
    {
      "cell_type": "code",
      "execution_count": null,
      "source": [
        "my_str='lakshmi'"
      ],
      "outputs": [],
      "metadata": {
        "id": "KI3v_glnu-ZU"
      }
    },
    {
      "cell_type": "code",
      "execution_count": null,
      "source": [
        "my_str.istitle()"
      ],
      "outputs": [
        {
          "output_type": "execute_result",
          "data": {
            "text/plain": [
              "False"
            ]
          },
          "metadata": {},
          "execution_count": 248
        }
      ],
      "metadata": {
        "id": "THEeLeShu-ZU",
        "outputId": "92bd4650-c246-4dfd-aee7-4b3307916b5a"
      }
    },
    {
      "cell_type": "code",
      "execution_count": null,
      "source": [
        "print(my_str.isalnum()) #check if it is alpha-numeric\r\n",
        "print(my_str.isalpha()) #check if all char in the string are alphabetic\r\n",
        "print(my_str.isdigit()) #test if string contains digits\r\n",
        "print(my_str.istitle()) #test if string contains title words\r\n",
        "print(my_str.isupper()) #test if string contains upper case\r\n",
        "print(my_str.islower()) #test if string contains lower case\r\n",
        "print(my_str.isspace()) #test if string contains spaces\r\n",
        "print(my_str.endswith('i')) #test if string endswith a d\r\n",
        "print(my_str.startswith('l')) #test if string startswith H"
      ],
      "outputs": [
        {
          "output_type": "stream",
          "name": "stdout",
          "text": [
            "True\n",
            "True\n",
            "False\n",
            "False\n",
            "False\n",
            "True\n",
            "False\n",
            "True\n",
            "True\n"
          ]
        }
      ],
      "metadata": {
        "id": "-eKeguLXu-Za",
        "outputId": "b6a1c481-5e10-4617-a6df-8e6eeb99de76"
      }
    },
    {
      "cell_type": "markdown",
      "source": [
        "### Boolean and Logical Operators"
      ],
      "metadata": {
        "id": "OIrOCjZ2u-Zd"
      }
    },
    {
      "cell_type": "code",
      "execution_count": null,
      "source": [
        "True and True"
      ],
      "outputs": [
        {
          "output_type": "execute_result",
          "data": {
            "text/plain": [
              "True"
            ]
          },
          "metadata": {},
          "execution_count": 250
        }
      ],
      "metadata": {
        "id": "VSzKF3ISu-Ze",
        "outputId": "6275bde4-3e94-4eeb-d000-e18a0189a611"
      }
    },
    {
      "cell_type": "code",
      "execution_count": null,
      "source": [
        "True and False"
      ],
      "outputs": [
        {
          "output_type": "execute_result",
          "data": {
            "text/plain": [
              "False"
            ]
          },
          "metadata": {},
          "execution_count": 251
        }
      ],
      "metadata": {
        "id": "JWZFPwRPu-Zh",
        "outputId": "ff002702-074d-4294-a3c3-4c250dff3e8a"
      }
    },
    {
      "cell_type": "code",
      "execution_count": null,
      "source": [
        "True or False"
      ],
      "outputs": [
        {
          "output_type": "execute_result",
          "data": {
            "text/plain": [
              "True"
            ]
          },
          "metadata": {},
          "execution_count": 252
        }
      ],
      "metadata": {
        "id": "j7Ae_9Euu-Zi",
        "outputId": "eac27d73-78b8-4a0d-9d95-90c03048dbc3"
      }
    },
    {
      "cell_type": "code",
      "execution_count": null,
      "source": [
        "True or True"
      ],
      "outputs": [
        {
          "output_type": "execute_result",
          "data": {
            "text/plain": [
              "True"
            ]
          },
          "metadata": {},
          "execution_count": 253
        }
      ],
      "metadata": {
        "id": "BVL7EdNTu-Zj",
        "outputId": "2f94ae62-e029-4269-c541-77a169fe6099"
      }
    },
    {
      "cell_type": "markdown",
      "source": [
        "### Lists\n",
        "\n",
        "A list is a data structure in Python that is a mutable, or changeable, ordered sequence of elements. Each element or value that is inside of a list is called an item. Just as strings are defined as characters between quotes, lists are defined by having values between square brackets [ ] "
      ],
      "metadata": {
        "id": "J7QOqZJWu-Zj"
      }
    },
    {
      "cell_type": "code",
      "execution_count": null,
      "source": [
        "type([1,2,3,5,'python'])"
      ],
      "outputs": [
        {
          "output_type": "execute_result",
          "data": {
            "text/plain": [
              "list"
            ]
          },
          "metadata": {},
          "execution_count": 254
        }
      ],
      "metadata": {
        "id": "8U_e0EMLu-Zl",
        "outputId": "f4b77f10-ffc2-4e87-f382-aaf9cceb7656"
      }
    },
    {
      "cell_type": "code",
      "execution_count": null,
      "source": [
        "lst=list()"
      ],
      "outputs": [],
      "metadata": {
        "id": "ozG91ql5u-Zm"
      }
    },
    {
      "cell_type": "code",
      "execution_count": null,
      "source": [
        "type(lst)"
      ],
      "outputs": [
        {
          "output_type": "execute_result",
          "data": {
            "text/plain": [
              "list"
            ]
          },
          "metadata": {},
          "execution_count": 257
        }
      ],
      "metadata": {
        "id": "-Gk28UFJu-Zm",
        "outputId": "01d9f6e0-128d-4480-bd81-6b14243dff84"
      }
    },
    {
      "cell_type": "code",
      "execution_count": null,
      "source": [
        "lst = ['Python', 'Java', 20,30, 40,50]"
      ],
      "outputs": [],
      "metadata": {
        "id": "FZHN2NUau-Zn"
      }
    },
    {
      "cell_type": "code",
      "execution_count": null,
      "source": [
        "len(lst)"
      ],
      "outputs": [
        {
          "output_type": "execute_result",
          "data": {
            "text/plain": [
              "6"
            ]
          },
          "metadata": {},
          "execution_count": 259
        }
      ],
      "metadata": {
        "id": "w3Yes0Wxu-Zn",
        "outputId": "bfc8f8d0-18de-49f7-c14a-e63dd35bb6a4"
      }
    },
    {
      "cell_type": "code",
      "execution_count": null,
      "source": [
        "lst.append(\"Perl\")   ## Append"
      ],
      "outputs": [],
      "metadata": {
        "id": "EINfFf8Uu-Zo"
      }
    },
    {
      "cell_type": "code",
      "execution_count": null,
      "source": [
        "lst"
      ],
      "outputs": [
        {
          "output_type": "execute_result",
          "data": {
            "text/plain": [
              "['Python', 'Java', 20, 30, 40, 50, 'Perl']"
            ]
          },
          "metadata": {},
          "execution_count": 261
        }
      ],
      "metadata": {
        "id": "6uDlt2Qsu-Zp",
        "outputId": "8bb172d9-331d-4752-c70a-4a741db1631b"
      }
    },
    {
      "cell_type": "code",
      "execution_count": null,
      "source": [
        "lst[6]  ###Indexing in list"
      ],
      "outputs": [
        {
          "output_type": "execute_result",
          "data": {
            "text/plain": [
              "'Perl'"
            ]
          },
          "metadata": {},
          "execution_count": 262
        }
      ],
      "metadata": {
        "id": "DdBgppj8u-Zr",
        "outputId": "8af698fe-bca9-4431-a8c3-1c88448c5672"
      }
    },
    {
      "cell_type": "code",
      "execution_count": null,
      "source": [
        "lst[2:6]"
      ],
      "outputs": [
        {
          "output_type": "execute_result",
          "data": {
            "text/plain": [
              "[20, 30, 40, 50]"
            ]
          },
          "metadata": {},
          "execution_count": 264
        }
      ],
      "metadata": {
        "id": "S-5YF0LDu-Zu",
        "outputId": "32971114-c02c-4f55-cab9-bdc96c053de1"
      }
    },
    {
      "cell_type": "code",
      "execution_count": null,
      "source": [
        "lst.append([\"Arthi\", \"Lakshmi\"])"
      ],
      "outputs": [],
      "metadata": {
        "id": "sHN8xyRzu-Zw"
      }
    },
    {
      "cell_type": "code",
      "execution_count": null,
      "source": [
        "lst  ##nested list"
      ],
      "outputs": [
        {
          "output_type": "execute_result",
          "data": {
            "text/plain": [
              "['Python', 'Java', 20, 30, 40, 50, 'Perl', ['Arthi', 'Lakshmi']]"
            ]
          },
          "metadata": {},
          "execution_count": 266
        }
      ],
      "metadata": {
        "id": "R0Fbev4hu-Zx",
        "outputId": "bba7d30e-05e8-4b82-dae3-68abb456fffc"
      }
    },
    {
      "cell_type": "code",
      "execution_count": null,
      "source": [
        "lst[7]"
      ],
      "outputs": [
        {
          "output_type": "execute_result",
          "data": {
            "text/plain": [
              "['Arthi', 'Lakshmi']"
            ]
          },
          "metadata": {},
          "execution_count": 269
        }
      ],
      "metadata": {
        "id": "htP05XhEu-Zy",
        "outputId": "68d9d939-bac8-4047-b9f0-aabcd27396cc"
      }
    },
    {
      "cell_type": "code",
      "execution_count": null,
      "source": [
        "lst.insert(2, \"gcp\")"
      ],
      "outputs": [],
      "metadata": {
        "id": "YiiufCxgu-Zy"
      }
    },
    {
      "cell_type": "code",
      "execution_count": null,
      "source": [
        "lst"
      ],
      "outputs": [
        {
          "output_type": "execute_result",
          "data": {
            "text/plain": [
              "['Python', 'Java', 'gcp', 20, 30, 40, 50, 'Perl', ['Arthi', 'Lakshmi']]"
            ]
          },
          "metadata": {},
          "execution_count": 271
        }
      ],
      "metadata": {
        "id": "DB-3Gakfu-Zz",
        "outputId": "c757efca-f9a6-4ee2-f920-51a0c575dfc1"
      }
    },
    {
      "cell_type": "markdown",
      "source": [
        "\n",
        "### List vs Set\n",
        "\n",
        "1. The List is an ordered sequence.\t1. The Set is an unordered sequence.\n",
        "2. List allows duplicate elements\t2. Set doesn’t allow duplicate elements.\n",
        "3. Elements by their position can be accessed.\t3. Position access to elements is not allowed."
      ],
      "metadata": {
        "id": "oMfDVUP3u-Zz"
      }
    },
    {
      "cell_type": "markdown",
      "source": [
        "## Tuples\n",
        "\n",
        "\n",
        "A tuple is an ordered collection of values, similar to a list. However, it is not possible to add, remove, or modify values in a tuple. A tuple is created by enclosing values within parentheses `(` and `)`, separated by commas.\n",
        "\n",
        "> Any data structure that cannot be modified after creation is called *immutable*. You can think of tuples as immutable lists.\n",
        "\n",
        "Let's try some experiments with tuples."
      ],
      "metadata": {
        "id": "kAhDKqawu-Z0"
      }
    },
    {
      "cell_type": "code",
      "execution_count": null,
      "source": [
        "#Tuples are just immutable lists. Use () instead of []\r\n",
        "x = (1, 2, 3)\r\n",
        "len(x)"
      ],
      "outputs": [
        {
          "output_type": "execute_result",
          "data": {
            "text/plain": [
              "3"
            ]
          },
          "metadata": {},
          "execution_count": 297
        }
      ],
      "metadata": {
        "id": "QXAtnBrFu-Z0",
        "outputId": "e802ace6-9e9e-49ef-e8cc-cf7e72392a9a"
      }
    },
    {
      "cell_type": "code",
      "execution_count": null,
      "source": [
        "y = (4, 5, 6)\r\n",
        "y[2]"
      ],
      "outputs": [
        {
          "output_type": "execute_result",
          "data": {
            "text/plain": [
              "6"
            ]
          },
          "metadata": {},
          "execution_count": 298
        }
      ],
      "metadata": {
        "id": "NVKOLWkVu-Z1",
        "outputId": "ea54061c-360f-4644-f1a1-0183ec9ad501"
      }
    },
    {
      "cell_type": "code",
      "execution_count": null,
      "source": [
        "fruits = ('apple', 'cherry', 'dates')"
      ],
      "outputs": [],
      "metadata": {
        "id": "Uj3KrhWmu-Z1"
      }
    },
    {
      "cell_type": "code",
      "execution_count": null,
      "source": [
        "# check no. of elements\r\n",
        "len(fruits)"
      ],
      "outputs": [
        {
          "output_type": "execute_result",
          "data": {
            "text/plain": [
              "3"
            ]
          },
          "metadata": {},
          "execution_count": 301
        }
      ],
      "metadata": {
        "id": "tkKsd5_4u-Z2",
        "outputId": "2a2a0bb4-c96b-4759-ca27-39c991dc0567"
      }
    },
    {
      "cell_type": "code",
      "execution_count": null,
      "source": [
        "# get an element (positive index)\r\n",
        "fruits[0]"
      ],
      "outputs": [
        {
          "output_type": "execute_result",
          "data": {
            "text/plain": [
              "'apple'"
            ]
          },
          "metadata": {},
          "execution_count": 302
        }
      ],
      "metadata": {
        "id": "BGchpVgTu-Z2",
        "outputId": "96a100b6-c429-4694-f936-89629a4525ed"
      }
    },
    {
      "cell_type": "code",
      "execution_count": null,
      "source": [
        "# get an element (negative index)\r\n",
        "fruits[-2]"
      ],
      "outputs": [
        {
          "output_type": "execute_result",
          "data": {
            "text/plain": [
              "'cherry'"
            ]
          },
          "metadata": {},
          "execution_count": 303
        }
      ],
      "metadata": {
        "id": "RAqUhI8iu-Z4",
        "outputId": "70ba5ac0-81f4-428b-a09c-d4584a3ba74e"
      }
    },
    {
      "cell_type": "code",
      "execution_count": null,
      "source": [
        "# check if it contains an element\r\n",
        "'dates' in fruits"
      ],
      "outputs": [
        {
          "output_type": "execute_result",
          "data": {
            "text/plain": [
              "True"
            ]
          },
          "metadata": {},
          "execution_count": 304
        }
      ],
      "metadata": {
        "id": "FOHu3sdBu-Z5",
        "outputId": "5a663daa-7b58-46d0-d7f1-b471b024f636"
      }
    },
    {
      "cell_type": "code",
      "execution_count": null,
      "source": [
        "# try to change an element\r\n",
        "fruits[0] = 'avocado'"
      ],
      "outputs": [
        {
          "output_type": "error",
          "ename": "TypeError",
          "evalue": "'tuple' object does not support item assignment",
          "traceback": [
            "\u001b[1;31m---------------------------------------------------------------------------\u001b[0m",
            "\u001b[1;31mTypeError\u001b[0m                                 Traceback (most recent call last)",
            "\u001b[1;32m<ipython-input-305-eea1d48cc8b5>\u001b[0m in \u001b[0;36m<module>\u001b[1;34m\u001b[0m\n\u001b[0;32m      1\u001b[0m \u001b[1;31m# try to change an element\u001b[0m\u001b[1;33m\u001b[0m\u001b[1;33m\u001b[0m\u001b[1;33m\u001b[0m\u001b[0m\n\u001b[1;32m----> 2\u001b[1;33m \u001b[0mfruits\u001b[0m\u001b[1;33m[\u001b[0m\u001b[1;36m0\u001b[0m\u001b[1;33m]\u001b[0m \u001b[1;33m=\u001b[0m \u001b[1;34m'avocado'\u001b[0m\u001b[1;33m\u001b[0m\u001b[1;33m\u001b[0m\u001b[0m\n\u001b[0m",
            "\u001b[1;31mTypeError\u001b[0m: 'tuple' object does not support item assignment"
          ]
        }
      ],
      "metadata": {
        "id": "yCbA_Rvju-Z5",
        "outputId": "2277ddb5-4031-4d6b-ee6f-8b6336ed738f"
      }
    },
    {
      "cell_type": "code",
      "execution_count": null,
      "source": [
        "# try to append an element\r\n",
        "fruits.append('blueberry')"
      ],
      "outputs": [
        {
          "output_type": "error",
          "ename": "AttributeError",
          "evalue": "'tuple' object has no attribute 'append'",
          "traceback": [
            "\u001b[1;31m---------------------------------------------------------------------------\u001b[0m",
            "\u001b[1;31mAttributeError\u001b[0m                            Traceback (most recent call last)",
            "\u001b[1;32m<ipython-input-306-e5ea20adaaf8>\u001b[0m in \u001b[0;36m<module>\u001b[1;34m\u001b[0m\n\u001b[0;32m      1\u001b[0m \u001b[1;31m# try to append an element\u001b[0m\u001b[1;33m\u001b[0m\u001b[1;33m\u001b[0m\u001b[1;33m\u001b[0m\u001b[0m\n\u001b[1;32m----> 2\u001b[1;33m \u001b[0mfruits\u001b[0m\u001b[1;33m.\u001b[0m\u001b[0mappend\u001b[0m\u001b[1;33m(\u001b[0m\u001b[1;34m'blueberry'\u001b[0m\u001b[1;33m)\u001b[0m\u001b[1;33m\u001b[0m\u001b[1;33m\u001b[0m\u001b[0m\n\u001b[0m",
            "\u001b[1;31mAttributeError\u001b[0m: 'tuple' object has no attribute 'append'"
          ]
        }
      ],
      "metadata": {
        "id": "JWPfePdru-Z6",
        "outputId": "e4833505-d5d2-4b93-b815-212bc03ee4e6"
      }
    },
    {
      "cell_type": "code",
      "execution_count": null,
      "source": [
        "# try to remove an element\r\n",
        "fruits.remove('apple')"
      ],
      "outputs": [
        {
          "output_type": "error",
          "ename": "AttributeError",
          "evalue": "'tuple' object has no attribute 'remove'",
          "traceback": [
            "\u001b[1;31m---------------------------------------------------------------------------\u001b[0m",
            "\u001b[1;31mAttributeError\u001b[0m                            Traceback (most recent call last)",
            "\u001b[1;32m<ipython-input-307-37543d45b6b4>\u001b[0m in \u001b[0;36m<module>\u001b[1;34m\u001b[0m\n\u001b[0;32m      1\u001b[0m \u001b[1;31m# try to remove an element\u001b[0m\u001b[1;33m\u001b[0m\u001b[1;33m\u001b[0m\u001b[1;33m\u001b[0m\u001b[0m\n\u001b[1;32m----> 2\u001b[1;33m \u001b[0mfruits\u001b[0m\u001b[1;33m.\u001b[0m\u001b[0mremove\u001b[0m\u001b[1;33m(\u001b[0m\u001b[1;34m'apple'\u001b[0m\u001b[1;33m)\u001b[0m\u001b[1;33m\u001b[0m\u001b[1;33m\u001b[0m\u001b[0m\n\u001b[0m",
            "\u001b[1;31mAttributeError\u001b[0m: 'tuple' object has no attribute 'remove'"
          ]
        }
      ],
      "metadata": {
        "id": "riKajceju-Z7",
        "outputId": "65640742-d334-4c94-ffac-42567a2cc8b6"
      }
    },
    {
      "cell_type": "markdown",
      "source": [
        "You can also skip the parantheses `(` and `)` while creating a tuple. Python automatically converts comma-separated values into a tuple."
      ],
      "metadata": {
        "id": "aM3Xe4LJu-Z8"
      }
    },
    {
      "cell_type": "markdown",
      "source": [
        "# Extend"
      ],
      "metadata": {
        "id": "iKrVvLqPu-Z8"
      }
    },
    {
      "cell_type": "code",
      "execution_count": null,
      "source": [
        "lst = [1,2,3,4,5,6]"
      ],
      "outputs": [],
      "metadata": {
        "id": "9XddZyEbu-Z9"
      }
    },
    {
      "cell_type": "code",
      "execution_count": null,
      "source": [
        "lst.extend([8,9])"
      ],
      "outputs": [],
      "metadata": {
        "id": "RBy3aqCZu-Z-"
      }
    },
    {
      "cell_type": "code",
      "execution_count": null,
      "source": [
        "lst"
      ],
      "outputs": [
        {
          "output_type": "execute_result",
          "data": {
            "text/plain": [
              "[1, 2, 3, 4, 5, 6, 8, 9]"
            ]
          },
          "metadata": {},
          "execution_count": 285
        }
      ],
      "metadata": {
        "id": "LqRdQyMVu-Z-",
        "outputId": "003b0b2e-e7c5-4190-def2-433d4a1924bf"
      }
    },
    {
      "cell_type": "code",
      "execution_count": null,
      "source": [
        "sum(lst)   ###sum operation in list"
      ],
      "outputs": [
        {
          "output_type": "execute_result",
          "data": {
            "text/plain": [
              "38"
            ]
          },
          "metadata": {},
          "execution_count": 286
        }
      ],
      "metadata": {
        "id": "2XMQeHAvu-Z_",
        "outputId": "5bbad95d-ca6d-4dd6-95a7-f97a1189e313"
      }
    },
    {
      "cell_type": "code",
      "execution_count": null,
      "source": [
        "lst*2"
      ],
      "outputs": [
        {
          "output_type": "execute_result",
          "data": {
            "text/plain": [
              "[1, 2, 3, 4, 5, 6, 8, 9, 1, 2, 3, 4, 5, 6, 8, 9]"
            ]
          },
          "metadata": {},
          "execution_count": 287
        }
      ],
      "metadata": {
        "id": "WaVrvktku-aA",
        "outputId": "04adb3aa-9945-442c-ff31-b1dad348284a"
      }
    },
    {
      "cell_type": "code",
      "execution_count": null,
      "source": [
        "lst.pop()"
      ],
      "outputs": [
        {
          "output_type": "execute_result",
          "data": {
            "text/plain": [
              "9"
            ]
          },
          "metadata": {},
          "execution_count": 288
        }
      ],
      "metadata": {
        "id": "-QH5ngnHu-aE",
        "outputId": "729548aa-6ae3-4552-fe03-b92d4f4175c6"
      }
    },
    {
      "cell_type": "code",
      "execution_count": null,
      "source": [
        "lst"
      ],
      "outputs": [
        {
          "output_type": "execute_result",
          "data": {
            "text/plain": [
              "[1, 2, 3, 4, 5, 6, 8]"
            ]
          },
          "metadata": {},
          "execution_count": 289
        }
      ],
      "metadata": {
        "id": "RwJ4cwmyu-aF",
        "outputId": "afc878f5-60b7-49cb-a1d9-f009790a873d"
      }
    },
    {
      "cell_type": "code",
      "execution_count": null,
      "source": [
        "lst.pop(0)"
      ],
      "outputs": [
        {
          "output_type": "execute_result",
          "data": {
            "text/plain": [
              "2"
            ]
          },
          "metadata": {},
          "execution_count": 291
        }
      ],
      "metadata": {
        "id": "QUCXQT0Uu-aF",
        "outputId": "b1d73a95-b395-4578-d7ed-473180344825"
      }
    },
    {
      "cell_type": "code",
      "execution_count": null,
      "source": [
        "lst"
      ],
      "outputs": [
        {
          "output_type": "execute_result",
          "data": {
            "text/plain": [
              "[3, 4, 5, 6, 8]"
            ]
          },
          "metadata": {},
          "execution_count": 292
        }
      ],
      "metadata": {
        "id": "pE6SxZk8u-aG",
        "outputId": "fdbbda0f-8a65-4bfd-c155-c620526513d0"
      }
    },
    {
      "cell_type": "markdown",
      "source": [
        "### count():Calculates total occurrence of given element of List"
      ],
      "metadata": {
        "id": "V0HHYs8Yu-aG"
      }
    },
    {
      "cell_type": "code",
      "execution_count": null,
      "source": [
        "lst=[1,1,2,3,4,5]\r\n",
        "lst.count(1)"
      ],
      "outputs": [
        {
          "output_type": "execute_result",
          "data": {
            "text/plain": [
              "2"
            ]
          },
          "metadata": {},
          "execution_count": 293
        }
      ],
      "metadata": {
        "id": "VWmaRnqRu-aG",
        "outputId": "9194c11e-9677-4994-d317-a8930be0bafd"
      }
    },
    {
      "cell_type": "code",
      "execution_count": null,
      "source": [
        "#length:Calculates total length of List\r\n",
        "len(lst)"
      ],
      "outputs": [
        {
          "output_type": "execute_result",
          "data": {
            "text/plain": [
              "6"
            ]
          },
          "metadata": {},
          "execution_count": 294
        }
      ],
      "metadata": {
        "id": "-fvTQ-itu-aH",
        "outputId": "5a943b89-dd27-4f6b-fbd7-87437d125fbe"
      }
    },
    {
      "cell_type": "code",
      "execution_count": null,
      "source": [
        "# index(): Returns the index of first occurrence. Start and End index are not necessary parameters\r\n",
        "#lst.index(1)\r\n",
        "lst.index(1,1,4)"
      ],
      "outputs": [
        {
          "output_type": "execute_result",
          "data": {
            "text/plain": [
              "1"
            ]
          },
          "metadata": {},
          "execution_count": 296
        }
      ],
      "metadata": {
        "id": "LqAxwrELu-aI",
        "outputId": "0d984725-9903-4091-f064-9176ac09ff9c"
      }
    },
    {
      "cell_type": "code",
      "execution_count": null,
      "source": [
        "min(lst)"
      ],
      "outputs": [],
      "metadata": {
        "id": "HB1myA6Nu-aI"
      }
    },
    {
      "cell_type": "code",
      "execution_count": null,
      "source": [
        "max(lst)"
      ],
      "outputs": [],
      "metadata": {
        "id": "IA7ltRSfu-aJ"
      }
    },
    {
      "cell_type": "markdown",
      "source": [
        "## SETS\n",
        "\n",
        "A Set is an unordered collection data type that is iterable, mutable, and has no duplicate elements. Python's set class represents the mathematical notion of a set.This is based on a data structure known as a hash table"
      ],
      "metadata": {
        "id": "Ov_qQqu6u-aJ"
      }
    },
    {
      "cell_type": "code",
      "execution_count": null,
      "source": [
        "## Defining an empty set\r\n",
        "\r\n",
        "set_var= set()\r\n",
        "print(set_var)\r\n",
        "print(type(set_var))"
      ],
      "outputs": [
        {
          "output_type": "stream",
          "name": "stdout",
          "text": [
            "set()\n",
            "<class 'set'>\n"
          ]
        }
      ],
      "metadata": {
        "id": "y_28lwZ8u-aJ",
        "outputId": "82dd123d-7bf2-46dd-c9d7-6d14351eef18"
      }
    },
    {
      "cell_type": "code",
      "execution_count": null,
      "source": [
        "set_var={1,2,3,4,3,1,2,2,3,4,4,1}"
      ],
      "outputs": [],
      "metadata": {
        "id": "4ff0ICOOu-aK"
      }
    },
    {
      "cell_type": "code",
      "execution_count": null,
      "source": [
        "set_var"
      ],
      "outputs": [
        {
          "output_type": "execute_result",
          "data": {
            "text/plain": [
              "{1, 2, 3, 4}"
            ]
          },
          "metadata": {},
          "execution_count": 311
        }
      ],
      "metadata": {
        "id": "d8-0GrD6u-aK",
        "outputId": "8721af67-fb67-4c34-c40c-fde37a39f8ff"
      }
    },
    {
      "cell_type": "code",
      "execution_count": null,
      "source": [
        "set_var={\"Apple\",\"Mango\",'Guava'}\r\n",
        "print(set_var)\r\n",
        "type(set_var)"
      ],
      "outputs": [
        {
          "output_type": "stream",
          "name": "stdout",
          "text": [
            "{'Mango', 'Apple', 'Guava'}\n"
          ]
        },
        {
          "output_type": "execute_result",
          "data": {
            "text/plain": [
              "set"
            ]
          },
          "metadata": {},
          "execution_count": 312
        }
      ],
      "metadata": {
        "id": "rfnzoNipu-aL",
        "outputId": "2d48161f-3bd3-4968-81c3-17ccb3298798"
      }
    },
    {
      "cell_type": "code",
      "execution_count": null,
      "source": [
        "##indexing\r\n",
        "\r\n",
        "set_var.add(\"avocado\")"
      ],
      "outputs": [],
      "metadata": {
        "id": "sQa2WK3au-aL"
      }
    },
    {
      "cell_type": "code",
      "execution_count": null,
      "source": [
        "set_var"
      ],
      "outputs": [
        {
          "output_type": "execute_result",
          "data": {
            "text/plain": [
              "{'Apple', 'Guava', 'Mango', 'avocado'}"
            ]
          },
          "metadata": {},
          "execution_count": 314
        }
      ],
      "metadata": {
        "id": "kiEW6W-Mu-aM",
        "outputId": "5c7733ad-dc30-475e-e9e7-b464c311cda0"
      }
    },
    {
      "cell_type": "markdown",
      "source": [
        "### Assignment\n"
      ],
      "metadata": {
        "id": "wZIC2qKau-aM"
      }
    },
    {
      "cell_type": "code",
      "execution_count": null,
      "source": [
        "\r\n",
        "a=10\r\n",
        "b=20\r\n",
        "\r\n",
        "#print(a*b)\r\n",
        "#print(a/b)\r\n",
        "#print(a%b)\r\n",
        "#print((a*b)+(a/b)) ##BODMAS"
      ],
      "outputs": [],
      "metadata": {
        "id": "gUIUGHs1u-aN"
      }
    },
    {
      "cell_type": "code",
      "execution_count": 1,
      "source": [
        "#Write a program which accept principle, rate and time from user and print the simple interest. The formula to calculate simple interest is: simple interest = principle x rate x time / 100 Solution"
      ],
      "outputs": [],
      "metadata": {
        "id": "I09xYzhPu-aN"
      }
    },
    {
      "cell_type": "code",
      "execution_count": 2,
      "source": [
        "principle = float(input(\"Enter Principle : \"))\r\n",
        "rate = float(input(\"Enter Rate : \"))\r\n",
        "time = float(input(\"Enter Time : \"))\r\n",
        "\r\n",
        "si = (principle*rate*time)/100\r\n",
        "\r\n",
        "print(\"Simple Interest : \",si)\r\n",
        "\r\n",
        "# run for principle = 1800 , rate = 12.5 , time = 12"
      ],
      "outputs": [
        {
          "output_type": "stream",
          "name": "stdout",
          "text": [
            "Simple Interest :  2700.0\n"
          ]
        }
      ],
      "metadata": {
        "id": "eDKxLBviu-aO"
      }
    }
  ]
}